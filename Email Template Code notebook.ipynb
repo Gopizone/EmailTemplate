{
 "cells": [
  {
   "cell_type": "code",
   "execution_count": 83,
   "metadata": {},
   "outputs": [],
   "source": [
    "import pandas as pd \n",
    "import numpy as np \n",
    "import matplotlib.pyplot as plt\n",
    "from pathlib import Path\n",
    "import string\n",
    "import re\n",
    "import joblib\n",
    "import json\n",
    "from collections import Counter\n",
    "import nltk\n",
    "from nltk.corpus import stopwords\n",
    "from nltk.stem import WordNetLemmatizer\n",
    "\n",
    "from tensorflow.keras.preprocessing.text import Tokenizer\n",
    "from tensorflow.keras.preprocessing.sequence import pad_sequences\n",
    "from tensorflow.keras.utils import plot_model\n",
    "from tensorflow.keras.models import Sequential\n",
    "from tensorflow.keras.layers import Embedding, Dense, Flatten\n",
    "from tensorflow.keras.layers import Conv1D\n",
    "from tensorflow.keras.layers import MaxPooling1D\n",
    "from tensorflow.keras.callbacks import ModelCheckpoint, EarlyStopping, ReduceLROnPlateau"
   ]
  },
  {
   "cell_type": "code",
   "execution_count": 84,
   "metadata": {},
   "outputs": [
    {
     "name": "stderr",
     "output_type": "stream",
     "text": [
      "[nltk_data] Downloading package wordnet to\n",
      "[nltk_data]     C:\\Users\\IpoG\\AppData\\Roaming\\nltk_data...\n",
      "[nltk_data]   Package wordnet is already up-to-date!\n"
     ]
    },
    {
     "data": {
      "text/plain": [
       "True"
      ]
     },
     "execution_count": 84,
     "metadata": {},
     "output_type": "execute_result"
    }
   ],
   "source": [
    "nltk.download('wordnet')"
   ]
  },
  {
   "cell_type": "code",
   "execution_count": 85,
   "metadata": {},
   "outputs": [],
   "source": [
    "def load_doc(jsonFile):\n",
    "    with open(jsonFile) as file:\n",
    "        Json_data = json.loads(file.read())\n",
    "    return Json_data"
   ]
  },
  {
   "cell_type": "code",
   "execution_count": 86,
   "metadata": {},
   "outputs": [],
   "source": [
    "data = load_doc(\"F:\\\\Data Science Excler\\\\Project\\\\P56\\\\dataset\\\\intents.json\")"
   ]
  },
  {
   "cell_type": "code",
   "execution_count": 87,
   "metadata": {},
   "outputs": [],
   "source": [
    "def frame_data(feat_1,feat_2,is_pattern):\n",
    "    is_pattern = is_pattern\n",
    "    df = pd.DataFrame(columns=[feat_1,feat_2])\n",
    "    for intent in data['intents']:\n",
    "        if is_pattern:\n",
    "            for pattern in intent['patterns']:\n",
    "                w = pattern\n",
    "                df_to_append = pd.Series([w,intent['tag']], index = df.columns)\n",
    "                df = df.append(df_to_append,ignore_index=True)\n",
    "        else:\n",
    "            for response in intent['responses']:\n",
    "                w = response\n",
    "                df_to_append = pd.Series([w,intent['tag']], index = df.columns)\n",
    "                df = df.append(df_to_append,ignore_index=True)\n",
    "    return df"
   ]
  },
  {
   "cell_type": "code",
   "execution_count": 88,
   "metadata": {},
   "outputs": [
    {
     "data": {
      "text/html": [
       "<div>\n",
       "<style scoped>\n",
       "    .dataframe tbody tr th:only-of-type {\n",
       "        vertical-align: middle;\n",
       "    }\n",
       "\n",
       "    .dataframe tbody tr th {\n",
       "        vertical-align: top;\n",
       "    }\n",
       "\n",
       "    .dataframe thead th {\n",
       "        text-align: right;\n",
       "    }\n",
       "</style>\n",
       "<table border=\"1\" class=\"dataframe\">\n",
       "  <thead>\n",
       "    <tr style=\"text-align: right;\">\n",
       "      <th></th>\n",
       "      <th>questions</th>\n",
       "      <th>labels</th>\n",
       "    </tr>\n",
       "  </thead>\n",
       "  <tbody>\n",
       "    <tr>\n",
       "      <th>0</th>\n",
       "      <td>Leave of Absence Request</td>\n",
       "      <td>Leave_Letter_Email</td>\n",
       "    </tr>\n",
       "    <tr>\n",
       "      <th>1</th>\n",
       "      <td>Medical Leave of Absence Request Letter</td>\n",
       "      <td>Leave_Letter_Email</td>\n",
       "    </tr>\n",
       "    <tr>\n",
       "      <th>2</th>\n",
       "      <td>Annual leave application</td>\n",
       "      <td>Leave_Letter_Email</td>\n",
       "    </tr>\n",
       "    <tr>\n",
       "      <th>3</th>\n",
       "      <td>Maternity leave application</td>\n",
       "      <td>Leave_Letter_Email</td>\n",
       "    </tr>\n",
       "    <tr>\n",
       "      <th>4</th>\n",
       "      <td>Paternity leave application</td>\n",
       "      <td>Leave_Letter_Email</td>\n",
       "    </tr>\n",
       "    <tr>\n",
       "      <th>...</th>\n",
       "      <td>...</td>\n",
       "      <td>...</td>\n",
       "    </tr>\n",
       "    <tr>\n",
       "      <th>92</th>\n",
       "      <td>Formal Job Offer Letter</td>\n",
       "      <td>Job_Offer_Letter_Email</td>\n",
       "    </tr>\n",
       "    <tr>\n",
       "      <th>93</th>\n",
       "      <td>Developer Job Offer Letter</td>\n",
       "      <td>Job_Offer_Letter_Email</td>\n",
       "    </tr>\n",
       "    <tr>\n",
       "      <th>94</th>\n",
       "      <td>Internal Promotion Offer Letter</td>\n",
       "      <td>Job_Offer_Letter_Email</td>\n",
       "    </tr>\n",
       "    <tr>\n",
       "      <th>95</th>\n",
       "      <td>Part time to Full time Offer Letter</td>\n",
       "      <td>Job_Offer_Letter_Email</td>\n",
       "    </tr>\n",
       "    <tr>\n",
       "      <th>96</th>\n",
       "      <td>Sales Job Offer Letter</td>\n",
       "      <td>Job_Offer_Letter_Email</td>\n",
       "    </tr>\n",
       "  </tbody>\n",
       "</table>\n",
       "<p>97 rows × 2 columns</p>\n",
       "</div>"
      ],
      "text/plain": [
       "                                  questions                  labels\n",
       "0                  Leave of Absence Request      Leave_Letter_Email\n",
       "1   Medical Leave of Absence Request Letter      Leave_Letter_Email\n",
       "2                  Annual leave application      Leave_Letter_Email\n",
       "3               Maternity leave application      Leave_Letter_Email\n",
       "4               Paternity leave application      Leave_Letter_Email\n",
       "..                                      ...                     ...\n",
       "92                  Formal Job Offer Letter  Job_Offer_Letter_Email\n",
       "93               Developer Job Offer Letter  Job_Offer_Letter_Email\n",
       "94          Internal Promotion Offer Letter  Job_Offer_Letter_Email\n",
       "95      Part time to Full time Offer Letter  Job_Offer_Letter_Email\n",
       "96                   Sales Job Offer Letter  Job_Offer_Letter_Email\n",
       "\n",
       "[97 rows x 2 columns]"
      ]
     },
     "execution_count": 88,
     "metadata": {},
     "output_type": "execute_result"
    }
   ],
   "source": [
    "# users intents \n",
    "df1 = frame_data('questions','labels',True)\n",
    "df1"
   ]
  },
  {
   "cell_type": "code",
   "execution_count": 89,
   "metadata": {},
   "outputs": [
    {
     "data": {
      "text/plain": [
       "Job_Invitation_Email                  5\n",
       "Employee Letters                      6\n",
       "Application Letter                   10\n",
       "Information Request Letter           10\n",
       "Business Letter                      32\n",
       "Leave_Letter_Email                   14\n",
       "Job_Offer_Letter_Email                5\n",
       "Job Search and Networking Letters    15\n",
       "Name: labels, dtype: int64"
      ]
     },
     "execution_count": 89,
     "metadata": {},
     "output_type": "execute_result"
    }
   ],
   "source": [
    "df1.labels.value_counts(sort=False)"
   ]
  },
  {
   "cell_type": "code",
   "execution_count": 90,
   "metadata": {},
   "outputs": [
    {
     "data": {
      "text/html": [
       "<div>\n",
       "<style scoped>\n",
       "    .dataframe tbody tr th:only-of-type {\n",
       "        vertical-align: middle;\n",
       "    }\n",
       "\n",
       "    .dataframe tbody tr th {\n",
       "        vertical-align: top;\n",
       "    }\n",
       "\n",
       "    .dataframe thead th {\n",
       "        text-align: right;\n",
       "    }\n",
       "</style>\n",
       "<table border=\"1\" class=\"dataframe\">\n",
       "  <thead>\n",
       "    <tr style=\"text-align: right;\">\n",
       "      <th></th>\n",
       "      <th>response</th>\n",
       "      <th>labels</th>\n",
       "    </tr>\n",
       "  </thead>\n",
       "  <tbody>\n",
       "    <tr>\n",
       "      <th>0</th>\n",
       "      <td>Sorry, kindly rephrase the question</td>\n",
       "      <td>confused</td>\n",
       "    </tr>\n",
       "    <tr>\n",
       "      <th>1</th>\n",
       "      <td>Sorry, can't understand you</td>\n",
       "      <td>confused</td>\n",
       "    </tr>\n",
       "    <tr>\n",
       "      <th>2</th>\n",
       "      <td>Please give me more information</td>\n",
       "      <td>confused</td>\n",
       "    </tr>\n",
       "    <tr>\n",
       "      <th>3</th>\n",
       "      <td>Not sure I understand</td>\n",
       "      <td>confused</td>\n",
       "    </tr>\n",
       "    <tr>\n",
       "      <th>4</th>\n",
       "      <td>Dear ABC,\\n I would like to request a XXX days...</td>\n",
       "      <td>Leave_Letter_Email</td>\n",
       "    </tr>\n",
       "  </tbody>\n",
       "</table>\n",
       "</div>"
      ],
      "text/plain": [
       "                                            response              labels\n",
       "0                Sorry, kindly rephrase the question            confused\n",
       "1                        Sorry, can't understand you            confused\n",
       "2                    Please give me more information            confused\n",
       "3                              Not sure I understand            confused\n",
       "4  Dear ABC,\\n I would like to request a XXX days...  Leave_Letter_Email"
      ]
     },
     "execution_count": 90,
     "metadata": {},
     "output_type": "execute_result"
    }
   ],
   "source": [
    "# Bot response\n",
    "df2 = frame_data('response','labels',False)\n",
    "df2.head()"
   ]
  },
  {
   "cell_type": "code",
   "execution_count": 91,
   "metadata": {},
   "outputs": [],
   "source": [
    "lemmatizer = WordNetLemmatizer()\n",
    "\n",
    "vocab = Counter()\n",
    "labels = []\n",
    "def tokenizer(entry):\n",
    "    tokens = entry.split()\n",
    "    re_punc = re.compile('[%s]' % re.escape(string.punctuation))\n",
    "    tokens = [re_punc.sub('', w) for w in tokens]\n",
    "    tokens = [word for word in tokens if word.isalpha()]\n",
    "    tokens = [lemmatizer.lemmatize(w.lower()) for w in tokens]\n",
    "#     stop_words = set(stopwords.words('english'))\n",
    "#     tokens = [w for w in tokens if not w in stop_words]\n",
    "    tokens = [word.lower() for word in tokens if len(word) > 1]\n",
    "    return tokens"
   ]
  },
  {
   "cell_type": "code",
   "execution_count": 92,
   "metadata": {},
   "outputs": [],
   "source": [
    "def remove_stop_words(tokenizer,df,feature):\n",
    "    doc_without_stopwords = []\n",
    "    for entry in df[feature]:\n",
    "        tokens = tokenizer(entry)\n",
    "        joblib.dump(tokens,'tokens.pkl')\n",
    "        doc_without_stopwords.append(' '.join(tokens))\n",
    "    df[feature] = doc_without_stopwords\n",
    "    return "
   ]
  },
  {
   "cell_type": "code",
   "execution_count": null,
   "metadata": {},
   "outputs": [],
   "source": []
  },
  {
   "cell_type": "code",
   "execution_count": 93,
   "metadata": {},
   "outputs": [],
   "source": [
    "def create_vocab(tokenizer,df,feature):\n",
    "    for entry in df[feature]:\n",
    "        tokens = tokenizer(entry)   \n",
    "        vocab.update(tokens)\n",
    "    joblib.dump(vocab,'vocab.pkl')\n",
    "    return "
   ]
  },
  {
   "cell_type": "code",
   "execution_count": 94,
   "metadata": {},
   "outputs": [],
   "source": [
    "create_vocab(tokenizer,df1,'questions')\n",
    "remove_stop_words(tokenizer,df1,'questions')"
   ]
  },
  {
   "cell_type": "code",
   "execution_count": 95,
   "metadata": {},
   "outputs": [
    {
     "name": "stdout",
     "output_type": "stream",
     "text": [
      "[('letter', 50), ('application', 19), ('for', 19), ('leave', 14), ('request', 11), ('email', 11), ('of', 10), ('to', 9), ('information', 9), ('employee', 7), ('inquiry', 7), ('interview', 7), ('job', 7), ('offer', 6), ('absence', 4), ('the', 4), ('family', 4), ('on', 4), ('thank', 4), ('you', 4)]\n"
     ]
    }
   ],
   "source": [
    "print(vocab.most_common(20))"
   ]
  },
  {
   "cell_type": "code",
   "execution_count": 96,
   "metadata": {},
   "outputs": [
    {
     "data": {
      "text/plain": [
       "156"
      ]
     },
     "execution_count": 96,
     "metadata": {},
     "output_type": "execute_result"
    }
   ],
   "source": [
    "vocab_size = len(vocab)\n",
    "vocab_size"
   ]
  },
  {
   "cell_type": "code",
   "execution_count": 97,
   "metadata": {},
   "outputs": [
    {
     "data": {
      "text/html": [
       "<div>\n",
       "<style scoped>\n",
       "    .dataframe tbody tr th:only-of-type {\n",
       "        vertical-align: middle;\n",
       "    }\n",
       "\n",
       "    .dataframe tbody tr th {\n",
       "        vertical-align: top;\n",
       "    }\n",
       "\n",
       "    .dataframe thead th {\n",
       "        text-align: right;\n",
       "    }\n",
       "</style>\n",
       "<table border=\"1\" class=\"dataframe\">\n",
       "  <thead>\n",
       "    <tr style=\"text-align: right;\">\n",
       "      <th></th>\n",
       "      <th>questions</th>\n",
       "      <th>labels</th>\n",
       "    </tr>\n",
       "  </thead>\n",
       "  <tbody>\n",
       "    <tr>\n",
       "      <th>0</th>\n",
       "      <td>leave of absence request</td>\n",
       "      <td>Leave_Letter_Email</td>\n",
       "    </tr>\n",
       "    <tr>\n",
       "      <th>1</th>\n",
       "      <td>medical leave of absence request letter</td>\n",
       "      <td>Leave_Letter_Email</td>\n",
       "    </tr>\n",
       "    <tr>\n",
       "      <th>2</th>\n",
       "      <td>annual leave application</td>\n",
       "      <td>Leave_Letter_Email</td>\n",
       "    </tr>\n",
       "    <tr>\n",
       "      <th>3</th>\n",
       "      <td>maternity leave application</td>\n",
       "      <td>Leave_Letter_Email</td>\n",
       "    </tr>\n",
       "    <tr>\n",
       "      <th>4</th>\n",
       "      <td>paternity leave application</td>\n",
       "      <td>Leave_Letter_Email</td>\n",
       "    </tr>\n",
       "    <tr>\n",
       "      <th>...</th>\n",
       "      <td>...</td>\n",
       "      <td>...</td>\n",
       "    </tr>\n",
       "    <tr>\n",
       "      <th>92</th>\n",
       "      <td>formal job offer letter</td>\n",
       "      <td>Job_Offer_Letter_Email</td>\n",
       "    </tr>\n",
       "    <tr>\n",
       "      <th>93</th>\n",
       "      <td>developer job offer letter</td>\n",
       "      <td>Job_Offer_Letter_Email</td>\n",
       "    </tr>\n",
       "    <tr>\n",
       "      <th>94</th>\n",
       "      <td>internal promotion offer letter</td>\n",
       "      <td>Job_Offer_Letter_Email</td>\n",
       "    </tr>\n",
       "    <tr>\n",
       "      <th>95</th>\n",
       "      <td>part time to full time offer letter</td>\n",
       "      <td>Job_Offer_Letter_Email</td>\n",
       "    </tr>\n",
       "    <tr>\n",
       "      <th>96</th>\n",
       "      <td>sale job offer letter</td>\n",
       "      <td>Job_Offer_Letter_Email</td>\n",
       "    </tr>\n",
       "  </tbody>\n",
       "</table>\n",
       "<p>97 rows × 2 columns</p>\n",
       "</div>"
      ],
      "text/plain": [
       "                                  questions                  labels\n",
       "0                  leave of absence request      Leave_Letter_Email\n",
       "1   medical leave of absence request letter      Leave_Letter_Email\n",
       "2                  annual leave application      Leave_Letter_Email\n",
       "3               maternity leave application      Leave_Letter_Email\n",
       "4               paternity leave application      Leave_Letter_Email\n",
       "..                                      ...                     ...\n",
       "92                  formal job offer letter  Job_Offer_Letter_Email\n",
       "93               developer job offer letter  Job_Offer_Letter_Email\n",
       "94          internal promotion offer letter  Job_Offer_Letter_Email\n",
       "95      part time to full time offer letter  Job_Offer_Letter_Email\n",
       "96                    sale job offer letter  Job_Offer_Letter_Email\n",
       "\n",
       "[97 rows x 2 columns]"
      ]
     },
     "execution_count": 97,
     "metadata": {},
     "output_type": "execute_result"
    }
   ],
   "source": [
    "df1"
   ]
  },
  {
   "cell_type": "code",
   "execution_count": 98,
   "metadata": {},
   "outputs": [
    {
     "data": {
      "text/plain": [
       "['transfer application letter',\n",
       " 'apology letter',\n",
       " 'employee letter',\n",
       " 'request for cheque book information letter',\n",
       " 'quick follow up email for conference',\n",
       " 'casual interview',\n",
       " 'formal job offer letter',\n",
       " 'leave of absence request']"
      ]
     },
     "execution_count": 98,
     "metadata": {},
     "output_type": "execute_result"
    }
   ],
   "source": [
    "test_list = list(df1.groupby(by='labels',as_index=False).first()['questions'])\n",
    "test_list"
   ]
  },
  {
   "cell_type": "code",
   "execution_count": 99,
   "metadata": {},
   "outputs": [
    {
     "data": {
      "text/plain": [
       "[52, 14, 46, 62, 72, 87, 92, 0]"
      ]
     },
     "execution_count": 99,
     "metadata": {},
     "output_type": "execute_result"
    }
   ],
   "source": [
    "test_index = []\n",
    "for i,_ in enumerate(test_list):\n",
    "    idx = df1[df1.questions == test_list[i]].index[0]\n",
    "    test_index.append(idx)\n",
    "test_index"
   ]
  },
  {
   "cell_type": "code",
   "execution_count": 100,
   "metadata": {},
   "outputs": [],
   "source": [
    "train_index = [i for i in df1.index if i not in test_index]"
   ]
  },
  {
   "cell_type": "code",
   "execution_count": 101,
   "metadata": {},
   "outputs": [
    {
     "data": {
      "text/plain": [
       "'leave of absence request medical letter annual application maternity paternity casual sick due to the illness family member required death in personal for day email half my wedding bereavement on demise relation with memberfriend emergency apology thank you note charitable contribution team leadership project business candidate rejection congratulation resignation notification excuse documentation advanced notice formal sickness offer assistance employee sample complimentary handling reply an change working hour company bonus new vacation policy employment verification template current past departure moving research inquiry real estate after interview congressional credit explanation report appreciation semiformal goodbye late work mistake at salary reduction transfer job college receptionist bank manager overdue payment reminder scholarship internship graduate school librarian cheque book information requesting productservice wholesale price list meeting increment free informational quotation quick follow up conference career fair assistant position part time office appointment location role networking recommendation and wishing hey hola hello good hi cold phone video developer internal promotion full sale'"
      ]
     },
     "execution_count": 101,
     "metadata": {},
     "output_type": "execute_result"
    }
   ],
   "source": [
    "' '.join(list(vocab.keys()))"
   ]
  },
  {
   "cell_type": "code",
   "execution_count": 102,
   "metadata": {},
   "outputs": [],
   "source": [
    "def encoder(df,feature):\n",
    "#     text = ' '.join(list(vocab.keys()))\n",
    "    t = Tokenizer()\n",
    "    entries = [entry for entry in df[feature]]\n",
    "    t.fit_on_texts(entries)\n",
    "    joblib.dump(t,'tokenizer_t.pkl')\n",
    "    vocab_size = len(t.word_index) + 1\n",
    "    entries = [entry for entry in df[feature]]\n",
    "    max_length = max([len(s.split()) for s in entries])\n",
    "    encoded = t.texts_to_sequences(entries)\n",
    "    padded = pad_sequences(encoded, maxlen=max_length, padding='post')\n",
    "    return padded, vocab_size"
   ]
  },
  {
   "cell_type": "code",
   "execution_count": 103,
   "metadata": {},
   "outputs": [],
   "source": [
    "X,vocab_size = encoder(df1,'questions')"
   ]
  },
  {
   "cell_type": "code",
   "execution_count": 104,
   "metadata": {},
   "outputs": [],
   "source": [
    "df_encoded = pd.DataFrame(X)"
   ]
  },
  {
   "cell_type": "code",
   "execution_count": 105,
   "metadata": {},
   "outputs": [
    {
     "data": {
      "text/html": [
       "<div>\n",
       "<style scoped>\n",
       "    .dataframe tbody tr th:only-of-type {\n",
       "        vertical-align: middle;\n",
       "    }\n",
       "\n",
       "    .dataframe tbody tr th {\n",
       "        vertical-align: top;\n",
       "    }\n",
       "\n",
       "    .dataframe thead th {\n",
       "        text-align: right;\n",
       "    }\n",
       "</style>\n",
       "<table border=\"1\" class=\"dataframe\">\n",
       "  <thead>\n",
       "    <tr style=\"text-align: right;\">\n",
       "      <th></th>\n",
       "      <th>0</th>\n",
       "      <th>1</th>\n",
       "      <th>2</th>\n",
       "      <th>3</th>\n",
       "      <th>4</th>\n",
       "      <th>5</th>\n",
       "      <th>6</th>\n",
       "      <th>7</th>\n",
       "      <th>8</th>\n",
       "      <th>9</th>\n",
       "      <th>10</th>\n",
       "      <th>11</th>\n",
       "      <th>12</th>\n",
       "      <th>labels</th>\n",
       "    </tr>\n",
       "  </thead>\n",
       "  <tbody>\n",
       "    <tr>\n",
       "      <th>0</th>\n",
       "      <td>4</td>\n",
       "      <td>7</td>\n",
       "      <td>15</td>\n",
       "      <td>5</td>\n",
       "      <td>0</td>\n",
       "      <td>0</td>\n",
       "      <td>0</td>\n",
       "      <td>0</td>\n",
       "      <td>0</td>\n",
       "      <td>0</td>\n",
       "      <td>0</td>\n",
       "      <td>0</td>\n",
       "      <td>0</td>\n",
       "      <td>Leave_Letter_Email</td>\n",
       "    </tr>\n",
       "    <tr>\n",
       "      <th>1</th>\n",
       "      <td>58</td>\n",
       "      <td>4</td>\n",
       "      <td>7</td>\n",
       "      <td>15</td>\n",
       "      <td>5</td>\n",
       "      <td>1</td>\n",
       "      <td>0</td>\n",
       "      <td>0</td>\n",
       "      <td>0</td>\n",
       "      <td>0</td>\n",
       "      <td>0</td>\n",
       "      <td>0</td>\n",
       "      <td>0</td>\n",
       "      <td>Leave_Letter_Email</td>\n",
       "    </tr>\n",
       "    <tr>\n",
       "      <th>2</th>\n",
       "      <td>59</td>\n",
       "      <td>4</td>\n",
       "      <td>2</td>\n",
       "      <td>0</td>\n",
       "      <td>0</td>\n",
       "      <td>0</td>\n",
       "      <td>0</td>\n",
       "      <td>0</td>\n",
       "      <td>0</td>\n",
       "      <td>0</td>\n",
       "      <td>0</td>\n",
       "      <td>0</td>\n",
       "      <td>0</td>\n",
       "      <td>Leave_Letter_Email</td>\n",
       "    </tr>\n",
       "    <tr>\n",
       "      <th>3</th>\n",
       "      <td>60</td>\n",
       "      <td>4</td>\n",
       "      <td>2</td>\n",
       "      <td>0</td>\n",
       "      <td>0</td>\n",
       "      <td>0</td>\n",
       "      <td>0</td>\n",
       "      <td>0</td>\n",
       "      <td>0</td>\n",
       "      <td>0</td>\n",
       "      <td>0</td>\n",
       "      <td>0</td>\n",
       "      <td>0</td>\n",
       "      <td>Leave_Letter_Email</td>\n",
       "    </tr>\n",
       "    <tr>\n",
       "      <th>4</th>\n",
       "      <td>61</td>\n",
       "      <td>4</td>\n",
       "      <td>2</td>\n",
       "      <td>0</td>\n",
       "      <td>0</td>\n",
       "      <td>0</td>\n",
       "      <td>0</td>\n",
       "      <td>0</td>\n",
       "      <td>0</td>\n",
       "      <td>0</td>\n",
       "      <td>0</td>\n",
       "      <td>0</td>\n",
       "      <td>0</td>\n",
       "      <td>Leave_Letter_Email</td>\n",
       "    </tr>\n",
       "  </tbody>\n",
       "</table>\n",
       "</div>"
      ],
      "text/plain": [
       "    0  1   2   3  4  5  6  7  8  9  10  11  12              labels\n",
       "0   4  7  15   5  0  0  0  0  0  0   0   0   0  Leave_Letter_Email\n",
       "1  58  4   7  15  5  1  0  0  0  0   0   0   0  Leave_Letter_Email\n",
       "2  59  4   2   0  0  0  0  0  0  0   0   0   0  Leave_Letter_Email\n",
       "3  60  4   2   0  0  0  0  0  0  0   0   0   0  Leave_Letter_Email\n",
       "4  61  4   2   0  0  0  0  0  0  0   0   0   0  Leave_Letter_Email"
      ]
     },
     "execution_count": 105,
     "metadata": {},
     "output_type": "execute_result"
    }
   ],
   "source": [
    "df_encoded['labels'] = df1.labels\n",
    "df_encoded.head()"
   ]
  },
  {
   "cell_type": "code",
   "execution_count": 106,
   "metadata": {},
   "outputs": [],
   "source": [
    "for i in range(0,2):\n",
    "    dt = [0]*13\n",
    "    dt.append('confused')\n",
    "    dt = [dt]\n",
    "    pd.DataFrame(dt).rename(columns = {13:'labels'})\n",
    "    df_encoded = df_encoded.append(pd.DataFrame(dt).rename(columns = {13:'labels'}),ignore_index=True)"
   ]
  },
  {
   "cell_type": "code",
   "execution_count": 107,
   "metadata": {},
   "outputs": [
    {
     "data": {
      "text/html": [
       "<div>\n",
       "<style scoped>\n",
       "    .dataframe tbody tr th:only-of-type {\n",
       "        vertical-align: middle;\n",
       "    }\n",
       "\n",
       "    .dataframe tbody tr th {\n",
       "        vertical-align: top;\n",
       "    }\n",
       "\n",
       "    .dataframe thead th {\n",
       "        text-align: right;\n",
       "    }\n",
       "</style>\n",
       "<table border=\"1\" class=\"dataframe\">\n",
       "  <thead>\n",
       "    <tr style=\"text-align: right;\">\n",
       "      <th></th>\n",
       "      <th>0</th>\n",
       "      <th>1</th>\n",
       "      <th>2</th>\n",
       "      <th>3</th>\n",
       "      <th>4</th>\n",
       "      <th>5</th>\n",
       "      <th>6</th>\n",
       "      <th>7</th>\n",
       "      <th>8</th>\n",
       "      <th>9</th>\n",
       "      <th>10</th>\n",
       "      <th>11</th>\n",
       "      <th>12</th>\n",
       "      <th>labels</th>\n",
       "    </tr>\n",
       "  </thead>\n",
       "  <tbody>\n",
       "    <tr>\n",
       "      <th>94</th>\n",
       "      <td>153</td>\n",
       "      <td>154</td>\n",
       "      <td>14</td>\n",
       "      <td>1</td>\n",
       "      <td>0</td>\n",
       "      <td>0</td>\n",
       "      <td>0</td>\n",
       "      <td>0</td>\n",
       "      <td>0</td>\n",
       "      <td>0</td>\n",
       "      <td>0</td>\n",
       "      <td>0</td>\n",
       "      <td>0</td>\n",
       "      <td>Job_Offer_Letter_Email</td>\n",
       "    </tr>\n",
       "    <tr>\n",
       "      <th>95</th>\n",
       "      <td>56</td>\n",
       "      <td>32</td>\n",
       "      <td>8</td>\n",
       "      <td>155</td>\n",
       "      <td>32</td>\n",
       "      <td>14</td>\n",
       "      <td>1</td>\n",
       "      <td>0</td>\n",
       "      <td>0</td>\n",
       "      <td>0</td>\n",
       "      <td>0</td>\n",
       "      <td>0</td>\n",
       "      <td>0</td>\n",
       "      <td>Job_Offer_Letter_Email</td>\n",
       "    </tr>\n",
       "    <tr>\n",
       "      <th>96</th>\n",
       "      <td>156</td>\n",
       "      <td>13</td>\n",
       "      <td>14</td>\n",
       "      <td>1</td>\n",
       "      <td>0</td>\n",
       "      <td>0</td>\n",
       "      <td>0</td>\n",
       "      <td>0</td>\n",
       "      <td>0</td>\n",
       "      <td>0</td>\n",
       "      <td>0</td>\n",
       "      <td>0</td>\n",
       "      <td>0</td>\n",
       "      <td>Job_Offer_Letter_Email</td>\n",
       "    </tr>\n",
       "    <tr>\n",
       "      <th>97</th>\n",
       "      <td>0</td>\n",
       "      <td>0</td>\n",
       "      <td>0</td>\n",
       "      <td>0</td>\n",
       "      <td>0</td>\n",
       "      <td>0</td>\n",
       "      <td>0</td>\n",
       "      <td>0</td>\n",
       "      <td>0</td>\n",
       "      <td>0</td>\n",
       "      <td>0</td>\n",
       "      <td>0</td>\n",
       "      <td>0</td>\n",
       "      <td>confused</td>\n",
       "    </tr>\n",
       "    <tr>\n",
       "      <th>98</th>\n",
       "      <td>0</td>\n",
       "      <td>0</td>\n",
       "      <td>0</td>\n",
       "      <td>0</td>\n",
       "      <td>0</td>\n",
       "      <td>0</td>\n",
       "      <td>0</td>\n",
       "      <td>0</td>\n",
       "      <td>0</td>\n",
       "      <td>0</td>\n",
       "      <td>0</td>\n",
       "      <td>0</td>\n",
       "      <td>0</td>\n",
       "      <td>confused</td>\n",
       "    </tr>\n",
       "  </tbody>\n",
       "</table>\n",
       "</div>"
      ],
      "text/plain": [
       "      0    1   2    3   4   5  6  7  8  9  10  11  12                  labels\n",
       "94  153  154  14    1   0   0  0  0  0  0   0   0   0  Job_Offer_Letter_Email\n",
       "95   56   32   8  155  32  14  1  0  0  0   0   0   0  Job_Offer_Letter_Email\n",
       "96  156   13  14    1   0   0  0  0  0  0   0   0   0  Job_Offer_Letter_Email\n",
       "97    0    0   0    0   0   0  0  0  0  0   0   0   0                confused\n",
       "98    0    0   0    0   0   0  0  0  0  0   0   0   0                confused"
      ]
     },
     "execution_count": 107,
     "metadata": {},
     "output_type": "execute_result"
    }
   ],
   "source": [
    "df_encoded.tail()"
   ]
  },
  {
   "cell_type": "code",
   "execution_count": 108,
   "metadata": {},
   "outputs": [],
   "source": [
    "train_index.append(97)"
   ]
  },
  {
   "cell_type": "code",
   "execution_count": 109,
   "metadata": {},
   "outputs": [],
   "source": [
    "test_index.append(98)"
   ]
  },
  {
   "cell_type": "code",
   "execution_count": 110,
   "metadata": {},
   "outputs": [],
   "source": [
    "# df_encoded = df_encoded.append(pd.DataFrame(dt).rename(columns = {16:'labels'}),ignore_index=True)"
   ]
  },
  {
   "cell_type": "code",
   "execution_count": 111,
   "metadata": {},
   "outputs": [],
   "source": [
    "from sklearn.preprocessing import LabelEncoder\n",
    "lable_enc = LabelEncoder()"
   ]
  },
  {
   "cell_type": "code",
   "execution_count": 112,
   "metadata": {},
   "outputs": [
    {
     "data": {
      "text/plain": [
       "array([7, 7, 7, 7, 7, 7, 7, 7, 7, 7, 7, 7, 7, 7, 1, 1, 1, 1, 1, 1, 1, 1,\n",
       "       1, 1, 1, 1, 1, 1, 1, 1, 1, 1, 1, 1, 1, 1, 1, 1, 1, 1, 1, 1, 1, 1,\n",
       "       1, 1, 2, 2, 2, 2, 2, 2, 0, 0, 0, 0, 0, 0, 0, 0, 0, 0, 3, 3, 3, 3,\n",
       "       3, 3, 3, 3, 3, 3, 4, 4, 4, 4, 4, 4, 4, 4, 4, 4, 4, 4, 4, 4, 4, 5,\n",
       "       5, 5, 5, 5, 6, 6, 6, 6, 6, 8, 8])"
      ]
     },
     "execution_count": 112,
     "metadata": {},
     "output_type": "execute_result"
    }
   ],
   "source": [
    "labl = lable_enc.fit_transform(df_encoded.labels)\n",
    "labl"
   ]
  },
  {
   "cell_type": "code",
   "execution_count": 113,
   "metadata": {},
   "outputs": [
    {
     "data": {
      "text/plain": [
       "{'Leave_Letter_Email': 7,\n",
       " 'Business Letter': 1,\n",
       " 'Employee Letters': 2,\n",
       " 'Application Letter': 0,\n",
       " 'Information Request Letter': 3,\n",
       " 'Job Search and Networking Letters': 4,\n",
       " 'Job_Invitation_Email': 5,\n",
       " 'Job_Offer_Letter_Email': 6,\n",
       " 'confused': 8}"
      ]
     },
     "execution_count": 113,
     "metadata": {},
     "output_type": "execute_result"
    }
   ],
   "source": [
    "mapper = {}\n",
    "for index,key in enumerate(df_encoded.labels):\n",
    "    if key not in mapper.keys():\n",
    "        mapper[key] = labl[index]\n",
    "mapper"
   ]
  },
  {
   "cell_type": "code",
   "execution_count": 114,
   "metadata": {},
   "outputs": [
    {
     "data": {
      "text/html": [
       "<div>\n",
       "<style scoped>\n",
       "    .dataframe tbody tr th:only-of-type {\n",
       "        vertical-align: middle;\n",
       "    }\n",
       "\n",
       "    .dataframe tbody tr th {\n",
       "        vertical-align: top;\n",
       "    }\n",
       "\n",
       "    .dataframe thead th {\n",
       "        text-align: right;\n",
       "    }\n",
       "</style>\n",
       "<table border=\"1\" class=\"dataframe\">\n",
       "  <thead>\n",
       "    <tr style=\"text-align: right;\">\n",
       "      <th></th>\n",
       "      <th>response</th>\n",
       "      <th>labels</th>\n",
       "    </tr>\n",
       "  </thead>\n",
       "  <tbody>\n",
       "    <tr>\n",
       "      <th>0</th>\n",
       "      <td>Sorry, kindly rephrase the question</td>\n",
       "      <td>confused</td>\n",
       "    </tr>\n",
       "    <tr>\n",
       "      <th>1</th>\n",
       "      <td>Sorry, can't understand you</td>\n",
       "      <td>confused</td>\n",
       "    </tr>\n",
       "    <tr>\n",
       "      <th>2</th>\n",
       "      <td>Please give me more information</td>\n",
       "      <td>confused</td>\n",
       "    </tr>\n",
       "    <tr>\n",
       "      <th>3</th>\n",
       "      <td>Not sure I understand</td>\n",
       "      <td>confused</td>\n",
       "    </tr>\n",
       "    <tr>\n",
       "      <th>4</th>\n",
       "      <td>Dear ABC,\\n I would like to request a XXX days...</td>\n",
       "      <td>Leave_Letter_Email</td>\n",
       "    </tr>\n",
       "  </tbody>\n",
       "</table>\n",
       "</div>"
      ],
      "text/plain": [
       "                                            response              labels\n",
       "0                Sorry, kindly rephrase the question            confused\n",
       "1                        Sorry, can't understand you            confused\n",
       "2                    Please give me more information            confused\n",
       "3                              Not sure I understand            confused\n",
       "4  Dear ABC,\\n I would like to request a XXX days...  Leave_Letter_Email"
      ]
     },
     "execution_count": 114,
     "metadata": {},
     "output_type": "execute_result"
    }
   ],
   "source": [
    "df2.head()"
   ]
  },
  {
   "cell_type": "code",
   "execution_count": 115,
   "metadata": {},
   "outputs": [
    {
     "data": {
      "text/html": [
       "<div>\n",
       "<style scoped>\n",
       "    .dataframe tbody tr th:only-of-type {\n",
       "        vertical-align: middle;\n",
       "    }\n",
       "\n",
       "    .dataframe tbody tr th {\n",
       "        vertical-align: top;\n",
       "    }\n",
       "\n",
       "    .dataframe thead th {\n",
       "        text-align: right;\n",
       "    }\n",
       "</style>\n",
       "<table border=\"1\" class=\"dataframe\">\n",
       "  <thead>\n",
       "    <tr style=\"text-align: right;\">\n",
       "      <th></th>\n",
       "      <th>response</th>\n",
       "      <th>labels</th>\n",
       "    </tr>\n",
       "  </thead>\n",
       "  <tbody>\n",
       "    <tr>\n",
       "      <th>91</th>\n",
       "      <td>Position \\n Job title \\n Your title will be Jo...</td>\n",
       "      <td>6</td>\n",
       "    </tr>\n",
       "    <tr>\n",
       "      <th>92</th>\n",
       "      <td>Position \\n Job Title \\n Your title will be Jo...</td>\n",
       "      <td>6</td>\n",
       "    </tr>\n",
       "    <tr>\n",
       "      <th>93</th>\n",
       "      <td>Congratulations on your new role.Your new empl...</td>\n",
       "      <td>6</td>\n",
       "    </tr>\n",
       "    <tr>\n",
       "      <th>94</th>\n",
       "      <td>Dear abc,\\n We are excited to announce that we...</td>\n",
       "      <td>6</td>\n",
       "    </tr>\n",
       "    <tr>\n",
       "      <th>95</th>\n",
       "      <td>Position \\n Job Title \\n Your title will be Jo...</td>\n",
       "      <td>6</td>\n",
       "    </tr>\n",
       "  </tbody>\n",
       "</table>\n",
       "</div>"
      ],
      "text/plain": [
       "                                             response  labels\n",
       "91  Position \\n Job title \\n Your title will be Jo...       6\n",
       "92  Position \\n Job Title \\n Your title will be Jo...       6\n",
       "93  Congratulations on your new role.Your new empl...       6\n",
       "94  Dear abc,\\n We are excited to announce that we...       6\n",
       "95  Position \\n Job Title \\n Your title will be Jo...       6"
      ]
     },
     "execution_count": 115,
     "metadata": {},
     "output_type": "execute_result"
    }
   ],
   "source": [
    "df2.labels = df2.labels.map(mapper).astype({'labels': 'int32'})\n",
    "df2.tail()"
   ]
  },
  {
   "cell_type": "code",
   "execution_count": 116,
   "metadata": {},
   "outputs": [],
   "source": [
    "df2.to_csv('response.csv',index=False)"
   ]
  },
  {
   "cell_type": "code",
   "execution_count": 117,
   "metadata": {},
   "outputs": [],
   "source": [
    "# df2.groupby('labels').get_group(11)"
   ]
  },
  {
   "cell_type": "code",
   "execution_count": 118,
   "metadata": {},
   "outputs": [],
   "source": [
    "train = df_encoded.loc[train_index]\n",
    "test = df_encoded.loc[test_index]"
   ]
  },
  {
   "cell_type": "code",
   "execution_count": 119,
   "metadata": {},
   "outputs": [],
   "source": [
    "X_train = train.drop(columns=['labels'],axis=1)\n",
    "y_train = train.labels\n",
    "X_test = test.drop(columns=['labels'],axis=1)\n",
    "y_test = test.labels\n"
   ]
  },
  {
   "cell_type": "code",
   "execution_count": 120,
   "metadata": {},
   "outputs": [],
   "source": [
    "y_train =pd.get_dummies(y_train).values\n",
    "y_test =pd.get_dummies(y_test).values"
   ]
  },
  {
   "cell_type": "code",
   "execution_count": 121,
   "metadata": {},
   "outputs": [
    {
     "data": {
      "text/plain": [
       "((9,), (9,))"
      ]
     },
     "execution_count": 121,
     "metadata": {},
     "output_type": "execute_result"
    }
   ],
   "source": [
    "y_train[0].shape,y_test[0].shape"
   ]
  },
  {
   "cell_type": "code",
   "execution_count": null,
   "metadata": {},
   "outputs": [],
   "source": []
  },
  {
   "cell_type": "code",
   "execution_count": 122,
   "metadata": {},
   "outputs": [
    {
     "data": {
      "text/plain": [
       "(90, 13)"
      ]
     },
     "execution_count": 122,
     "metadata": {},
     "output_type": "execute_result"
    }
   ],
   "source": [
    "X_train.shape"
   ]
  },
  {
   "cell_type": "code",
   "execution_count": 123,
   "metadata": {},
   "outputs": [],
   "source": [
    "max_length = X_train.shape[1]\n",
    "# output = len(df3.labels.unique())\n",
    "output = 9"
   ]
  },
  {
   "cell_type": "code",
   "execution_count": 124,
   "metadata": {},
   "outputs": [],
   "source": [
    "# def define_model(vocab_size, max_length):\n",
    "#     model = Sequential()\n",
    "#     model.add(Embedding(vocab_size,300, input_length=max_length))\n",
    "#     model.add(Conv1D(filters=64, kernel_size=6, activation='relu'))\n",
    "#     model.add(MaxPooling1D(pool_size=4))\n",
    "#     model.add(Flatten())\n",
    "# #     model.add(Dense(32, activation='relu'))\n",
    "#     model.add(Dense(16, activation='softmax'))\n",
    "    \n",
    "#     # compile network\n",
    "#     model.compile(loss='categorical_crossentropy', optimizer='adam', metrics=['accuracy'])\n",
    "#     # summarize defined model\n",
    "#     model.summary()\n",
    "# #     plot_model(model, to_file='model.png', show_shapes=True)\n",
    "#     return model"
   ]
  },
  {
   "cell_type": "code",
   "execution_count": 125,
   "metadata": {},
   "outputs": [
    {
     "data": {
      "text/plain": [
       "13"
      ]
     },
     "execution_count": 125,
     "metadata": {},
     "output_type": "execute_result"
    }
   ],
   "source": [
    "max_length"
   ]
  },
  {
   "cell_type": "code",
   "execution_count": 126,
   "metadata": {},
   "outputs": [],
   "source": [
    "early_stopping = EarlyStopping(monitor='val_loss',patience=10)\n",
    "checkpoint = ModelCheckpoint(\"model-v1.h5\",\n",
    "                             monitor=\"val_loss\",\n",
    "                             mode=\"min\",\n",
    "                             save_best_only = True,\n",
    "                             verbose=1)\n",
    "reduce_lr = ReduceLROnPlateau(monitor = 'val_loss', factor = 0.2, patience = 3, verbose = 1, min_delta = 0.0001)\n",
    "callbacks = [early_stopping,checkpoint,reduce_lr]\n",
    "    \n",
    "    "
   ]
  },
  {
   "cell_type": "code",
   "execution_count": 127,
   "metadata": {},
   "outputs": [],
   "source": [
    "\n",
    "def define_model(vocab_size, max_length):\n",
    "    model = Sequential()\n",
    "    model.add(Embedding(vocab_size,300, input_length=max_length))\n",
    "    model.add(Conv1D(filters=64, kernel_size=4, activation='relu'))\n",
    "    model.add(MaxPooling1D(pool_size=8))\n",
    "    model.add(Flatten())\n",
    "#     model.add(Dense(32, activation='relu'))\n",
    "    model.add(Dense(9, activation='softmax'))\n",
    "    \n",
    "    \n",
    "    # compile network\n",
    "#     model.compile(loss='categorical_crossentropy', optimizer='adam', metrics=['accuracy'])\n",
    "    model.compile(loss = 'categorical_crossentropy',\n",
    "              # optimizer = Adam(lr=0.001),\n",
    "              optimizer = 'adam',\n",
    "              metrics = ['accuracy'])\n",
    "    \n",
    "    # summarize defined model\n",
    "    model.summary()\n",
    "#     plot_model(model, to_file='model.png', show_shapes=True)\n",
    "    return model"
   ]
  },
  {
   "cell_type": "code",
   "execution_count": 128,
   "metadata": {},
   "outputs": [
    {
     "name": "stdout",
     "output_type": "stream",
     "text": [
      "Model: \"sequential_1\"\n",
      "_________________________________________________________________\n",
      "Layer (type)                 Output Shape              Param #   \n",
      "=================================================================\n",
      "embedding_1 (Embedding)      (None, 13, 300)           47100     \n",
      "_________________________________________________________________\n",
      "conv1d_1 (Conv1D)            (None, 10, 64)            76864     \n",
      "_________________________________________________________________\n",
      "max_pooling1d_1 (MaxPooling1 (None, 1, 64)             0         \n",
      "_________________________________________________________________\n",
      "flatten_1 (Flatten)          (None, 64)                0         \n",
      "_________________________________________________________________\n",
      "dense_1 (Dense)              (None, 9)                 585       \n",
      "=================================================================\n",
      "Total params: 124,549\n",
      "Trainable params: 124,549\n",
      "Non-trainable params: 0\n",
      "_________________________________________________________________\n"
     ]
    }
   ],
   "source": [
    "# define model\n",
    "model = define_model(vocab_size, max_length)"
   ]
  },
  {
   "cell_type": "code",
   "execution_count": 129,
   "metadata": {},
   "outputs": [
    {
     "name": "stdout",
     "output_type": "stream",
     "text": [
      "Epoch 1/500\n",
      "3/3 [==============================] - 2s 197ms/step - loss: 2.1849 - accuracy: 0.2000 - val_loss: 2.1473 - val_accuracy: 0.1111\n",
      "\n",
      "Epoch 00001: val_loss improved from inf to 2.14733, saving model to model-v1.h5\n",
      "Epoch 2/500\n",
      "3/3 [==============================] - 0s 30ms/step - loss: 2.0413 - accuracy: 0.4667 - val_loss: 2.1309 - val_accuracy: 0.1111\n",
      "\n",
      "Epoch 00002: val_loss improved from 2.14733 to 2.13085, saving model to model-v1.h5\n",
      "Epoch 3/500\n",
      "3/3 [==============================] - 0s 25ms/step - loss: 1.9307 - accuracy: 0.4222 - val_loss: 2.1200 - val_accuracy: 0.1111\n",
      "\n",
      "Epoch 00003: val_loss improved from 2.13085 to 2.12001, saving model to model-v1.h5\n",
      "Epoch 4/500\n",
      "3/3 [==============================] - 0s 31ms/step - loss: 1.8179 - accuracy: 0.4111 - val_loss: 2.1131 - val_accuracy: 0.1111\n",
      "\n",
      "Epoch 00004: val_loss improved from 2.12001 to 2.11311, saving model to model-v1.h5\n",
      "Epoch 5/500\n",
      "3/3 [==============================] - 0s 34ms/step - loss: 1.7066 - accuracy: 0.4444 - val_loss: 2.1114 - val_accuracy: 0.1111\n",
      "\n",
      "Epoch 00005: val_loss improved from 2.11311 to 2.11141, saving model to model-v1.h5\n",
      "Epoch 6/500\n",
      "3/3 [==============================] - 0s 37ms/step - loss: 1.6016 - accuracy: 0.4556 - val_loss: 2.1133 - val_accuracy: 0.1111\n",
      "\n",
      "Epoch 00006: val_loss did not improve from 2.11141\n",
      "Epoch 7/500\n",
      "3/3 [==============================] - 0s 32ms/step - loss: 1.4995 - accuracy: 0.5111 - val_loss: 2.1160 - val_accuracy: 0.1111\n",
      "\n",
      "Epoch 00007: val_loss did not improve from 2.11141\n",
      "Epoch 8/500\n",
      "3/3 [==============================] - 0s 42ms/step - loss: 1.4003 - accuracy: 0.5333 - val_loss: 2.0968 - val_accuracy: 0.1111\n",
      "\n",
      "Epoch 00008: val_loss improved from 2.11141 to 2.09681, saving model to model-v1.h5\n",
      "Epoch 9/500\n",
      "3/3 [==============================] - 0s 30ms/step - loss: 1.2982 - accuracy: 0.5667 - val_loss: 2.0495 - val_accuracy: 0.1111\n",
      "\n",
      "Epoch 00009: val_loss improved from 2.09681 to 2.04951, saving model to model-v1.h5\n",
      "Epoch 10/500\n",
      "3/3 [==============================] - 0s 31ms/step - loss: 1.1877 - accuracy: 0.6778 - val_loss: 1.9822 - val_accuracy: 0.2222\n",
      "\n",
      "Epoch 00010: val_loss improved from 2.04951 to 1.98223, saving model to model-v1.h5\n",
      "Epoch 11/500\n",
      "3/3 [==============================] - 0s 52ms/step - loss: 1.0732 - accuracy: 0.7444 - val_loss: 1.8985 - val_accuracy: 0.2222\n",
      "\n",
      "Epoch 00011: val_loss improved from 1.98223 to 1.89847, saving model to model-v1.h5\n",
      "Epoch 12/500\n",
      "3/3 [==============================] - 0s 24ms/step - loss: 0.9672 - accuracy: 0.7889 - val_loss: 1.8070 - val_accuracy: 0.3333\n",
      "\n",
      "Epoch 00012: val_loss improved from 1.89847 to 1.80695, saving model to model-v1.h5\n",
      "Epoch 13/500\n",
      "3/3 [==============================] - 0s 31ms/step - loss: 0.8629 - accuracy: 0.8556 - val_loss: 1.7119 - val_accuracy: 0.6667\n",
      "\n",
      "Epoch 00013: val_loss improved from 1.80695 to 1.71188, saving model to model-v1.h5\n",
      "Epoch 14/500\n",
      "3/3 [==============================] - 0s 31ms/step - loss: 0.7610 - accuracy: 0.9111 - val_loss: 1.6262 - val_accuracy: 0.6667\n",
      "\n",
      "Epoch 00014: val_loss improved from 1.71188 to 1.62624, saving model to model-v1.h5\n",
      "Epoch 15/500\n",
      "3/3 [==============================] - 0s 34ms/step - loss: 0.6704 - accuracy: 0.9111 - val_loss: 1.5475 - val_accuracy: 0.6667\n",
      "\n",
      "Epoch 00015: val_loss improved from 1.62624 to 1.54748, saving model to model-v1.h5\n",
      "Epoch 16/500\n",
      "3/3 [==============================] - 0s 38ms/step - loss: 0.5855 - accuracy: 0.9111 - val_loss: 1.4799 - val_accuracy: 0.6667\n",
      "\n",
      "Epoch 00016: val_loss improved from 1.54748 to 1.47990, saving model to model-v1.h5\n",
      "Epoch 17/500\n",
      "3/3 [==============================] - 0s 30ms/step - loss: 0.5116 - accuracy: 0.9111 - val_loss: 1.4126 - val_accuracy: 0.6667\n",
      "\n",
      "Epoch 00017: val_loss improved from 1.47990 to 1.41263, saving model to model-v1.h5\n",
      "Epoch 18/500\n",
      "3/3 [==============================] - 0s 32ms/step - loss: 0.4496 - accuracy: 0.9111 - val_loss: 1.3461 - val_accuracy: 0.6667\n",
      "\n",
      "Epoch 00018: val_loss improved from 1.41263 to 1.34608, saving model to model-v1.h5\n",
      "Epoch 19/500\n",
      "3/3 [==============================] - 0s 37ms/step - loss: 0.3934 - accuracy: 0.9111 - val_loss: 1.2836 - val_accuracy: 0.6667\n",
      "\n",
      "Epoch 00019: val_loss improved from 1.34608 to 1.28360, saving model to model-v1.h5\n",
      "Epoch 20/500\n",
      "3/3 [==============================] - 0s 49ms/step - loss: 0.3466 - accuracy: 0.9222 - val_loss: 1.2223 - val_accuracy: 0.6667\n",
      "\n",
      "Epoch 00020: val_loss improved from 1.28360 to 1.22228, saving model to model-v1.h5\n",
      "Epoch 21/500\n",
      "3/3 [==============================] - 0s 32ms/step - loss: 0.3078 - accuracy: 0.9333 - val_loss: 1.1608 - val_accuracy: 0.6667\n",
      "\n",
      "Epoch 00021: val_loss improved from 1.22228 to 1.16077, saving model to model-v1.h5\n",
      "Epoch 22/500\n",
      "3/3 [==============================] - 0s 56ms/step - loss: 0.2716 - accuracy: 0.9556 - val_loss: 1.1093 - val_accuracy: 0.6667\n",
      "\n",
      "Epoch 00022: val_loss improved from 1.16077 to 1.10928, saving model to model-v1.h5\n",
      "Epoch 23/500\n",
      "3/3 [==============================] - 0s 30ms/step - loss: 0.2390 - accuracy: 0.9667 - val_loss: 1.0630 - val_accuracy: 0.6667\n",
      "\n",
      "Epoch 00023: val_loss improved from 1.10928 to 1.06299, saving model to model-v1.h5\n",
      "Epoch 24/500\n",
      "3/3 [==============================] - 0s 40ms/step - loss: 0.2118 - accuracy: 0.9667 - val_loss: 1.0193 - val_accuracy: 0.6667\n",
      "\n",
      "Epoch 00024: val_loss improved from 1.06299 to 1.01933, saving model to model-v1.h5\n",
      "Epoch 25/500\n",
      "3/3 [==============================] - 0s 41ms/step - loss: 0.1884 - accuracy: 0.9667 - val_loss: 0.9800 - val_accuracy: 0.7778\n",
      "\n",
      "Epoch 00025: val_loss improved from 1.01933 to 0.98002, saving model to model-v1.h5\n",
      "Epoch 26/500\n",
      "3/3 [==============================] - 0s 37ms/step - loss: 0.1667 - accuracy: 0.9778 - val_loss: 0.9453 - val_accuracy: 0.7778\n",
      "\n",
      "Epoch 00026: val_loss improved from 0.98002 to 0.94530, saving model to model-v1.h5\n",
      "Epoch 27/500\n",
      "3/3 [==============================] - 0s 28ms/step - loss: 0.1479 - accuracy: 0.9778 - val_loss: 0.9090 - val_accuracy: 0.7778\n",
      "\n",
      "Epoch 00027: val_loss improved from 0.94530 to 0.90902, saving model to model-v1.h5\n",
      "Epoch 28/500\n",
      "3/3 [==============================] - 0s 23ms/step - loss: 0.1329 - accuracy: 0.9778 - val_loss: 0.8800 - val_accuracy: 0.7778\n",
      "\n",
      "Epoch 00028: val_loss improved from 0.90902 to 0.88002, saving model to model-v1.h5\n",
      "Epoch 29/500\n",
      "3/3 [==============================] - 0s 34ms/step - loss: 0.1197 - accuracy: 0.9778 - val_loss: 0.8542 - val_accuracy: 0.7778\n",
      "\n",
      "Epoch 00029: val_loss improved from 0.88002 to 0.85418, saving model to model-v1.h5\n",
      "Epoch 30/500\n",
      "3/3 [==============================] - 0s 24ms/step - loss: 0.1081 - accuracy: 0.9778 - val_loss: 0.8337 - val_accuracy: 0.7778\n",
      "\n",
      "Epoch 00030: val_loss improved from 0.85418 to 0.83366, saving model to model-v1.h5\n",
      "Epoch 31/500\n",
      "3/3 [==============================] - 0s 33ms/step - loss: 0.0984 - accuracy: 0.9778 - val_loss: 0.8150 - val_accuracy: 0.6667\n",
      "\n",
      "Epoch 00031: val_loss improved from 0.83366 to 0.81504, saving model to model-v1.h5\n",
      "Epoch 32/500\n",
      "3/3 [==============================] - 0s 36ms/step - loss: 0.0907 - accuracy: 0.9778 - val_loss: 0.7975 - val_accuracy: 0.6667\n",
      "\n",
      "Epoch 00032: val_loss improved from 0.81504 to 0.79753, saving model to model-v1.h5\n",
      "Epoch 33/500\n",
      "3/3 [==============================] - 0s 38ms/step - loss: 0.0831 - accuracy: 0.9889 - val_loss: 0.7853 - val_accuracy: 0.6667\n",
      "\n",
      "Epoch 00033: val_loss improved from 0.79753 to 0.78530, saving model to model-v1.h5\n",
      "Epoch 34/500\n",
      "3/3 [==============================] - 0s 31ms/step - loss: 0.0773 - accuracy: 0.9889 - val_loss: 0.7744 - val_accuracy: 0.6667\n",
      "\n",
      "Epoch 00034: val_loss improved from 0.78530 to 0.77439, saving model to model-v1.h5\n",
      "Epoch 35/500\n",
      "3/3 [==============================] - 0s 48ms/step - loss: 0.0721 - accuracy: 0.9889 - val_loss: 0.7615 - val_accuracy: 0.6667\n",
      "\n",
      "Epoch 00035: val_loss improved from 0.77439 to 0.76153, saving model to model-v1.h5\n",
      "Epoch 36/500\n",
      "3/3 [==============================] - 0s 31ms/step - loss: 0.0676 - accuracy: 0.9889 - val_loss: 0.7505 - val_accuracy: 0.6667\n",
      "\n",
      "Epoch 00036: val_loss improved from 0.76153 to 0.75046, saving model to model-v1.h5\n",
      "Epoch 37/500\n",
      "3/3 [==============================] - 0s 41ms/step - loss: 0.0640 - accuracy: 0.9889 - val_loss: 0.7400 - val_accuracy: 0.6667\n"
     ]
    },
    {
     "name": "stdout",
     "output_type": "stream",
     "text": [
      "\n",
      "Epoch 00037: val_loss improved from 0.75046 to 0.73999, saving model to model-v1.h5\n",
      "Epoch 38/500\n",
      "3/3 [==============================] - 0s 22ms/step - loss: 0.0600 - accuracy: 0.9889 - val_loss: 0.7324 - val_accuracy: 0.6667\n",
      "\n",
      "Epoch 00038: val_loss improved from 0.73999 to 0.73242, saving model to model-v1.h5\n",
      "Epoch 39/500\n",
      "3/3 [==============================] - 0s 28ms/step - loss: 0.0572 - accuracy: 0.9889 - val_loss: 0.7234 - val_accuracy: 0.6667\n",
      "\n",
      "Epoch 00039: val_loss improved from 0.73242 to 0.72342, saving model to model-v1.h5\n",
      "Epoch 40/500\n",
      "3/3 [==============================] - 0s 38ms/step - loss: 0.0543 - accuracy: 0.9889 - val_loss: 0.7146 - val_accuracy: 0.6667\n",
      "\n",
      "Epoch 00040: val_loss improved from 0.72342 to 0.71458, saving model to model-v1.h5\n",
      "Epoch 41/500\n",
      "3/3 [==============================] - 0s 33ms/step - loss: 0.0516 - accuracy: 0.9889 - val_loss: 0.7061 - val_accuracy: 0.6667\n",
      "\n",
      "Epoch 00041: val_loss improved from 0.71458 to 0.70612, saving model to model-v1.h5\n",
      "Epoch 42/500\n",
      "3/3 [==============================] - 0s 48ms/step - loss: 0.0490 - accuracy: 0.9889 - val_loss: 0.6990 - val_accuracy: 0.6667\n",
      "\n",
      "Epoch 00042: val_loss improved from 0.70612 to 0.69899, saving model to model-v1.h5\n",
      "Epoch 43/500\n",
      "3/3 [==============================] - 0s 36ms/step - loss: 0.0471 - accuracy: 0.9889 - val_loss: 0.6899 - val_accuracy: 0.6667\n",
      "\n",
      "Epoch 00043: val_loss improved from 0.69899 to 0.68990, saving model to model-v1.h5\n",
      "Epoch 44/500\n",
      "3/3 [==============================] - 0s 76ms/step - loss: 0.0452 - accuracy: 0.9889 - val_loss: 0.6800 - val_accuracy: 0.6667\n",
      "\n",
      "Epoch 00044: val_loss improved from 0.68990 to 0.67998, saving model to model-v1.h5\n",
      "Epoch 45/500\n",
      "3/3 [==============================] - 0s 49ms/step - loss: 0.0427 - accuracy: 0.9889 - val_loss: 0.6716 - val_accuracy: 0.6667\n",
      "\n",
      "Epoch 00045: val_loss improved from 0.67998 to 0.67161, saving model to model-v1.h5\n",
      "Epoch 46/500\n",
      "3/3 [==============================] - 0s 36ms/step - loss: 0.0410 - accuracy: 0.9889 - val_loss: 0.6617 - val_accuracy: 0.6667\n",
      "\n",
      "Epoch 00046: val_loss improved from 0.67161 to 0.66168, saving model to model-v1.h5\n",
      "Epoch 47/500\n",
      "3/3 [==============================] - 0s 27ms/step - loss: 0.0392 - accuracy: 0.9889 - val_loss: 0.6530 - val_accuracy: 0.6667\n",
      "\n",
      "Epoch 00047: val_loss improved from 0.66168 to 0.65301, saving model to model-v1.h5\n",
      "Epoch 48/500\n",
      "3/3 [==============================] - 0s 26ms/step - loss: 0.0380 - accuracy: 0.9889 - val_loss: 0.6415 - val_accuracy: 0.6667\n",
      "\n",
      "Epoch 00048: val_loss improved from 0.65301 to 0.64152, saving model to model-v1.h5\n",
      "Epoch 49/500\n",
      "3/3 [==============================] - 0s 39ms/step - loss: 0.0356 - accuracy: 0.9889 - val_loss: 0.6330 - val_accuracy: 0.6667\n",
      "\n",
      "Epoch 00049: val_loss improved from 0.64152 to 0.63295, saving model to model-v1.h5\n",
      "Epoch 50/500\n",
      "3/3 [==============================] - 0s 30ms/step - loss: 0.0340 - accuracy: 0.9889 - val_loss: 0.6237 - val_accuracy: 0.6667\n",
      "\n",
      "Epoch 00050: val_loss improved from 0.63295 to 0.62366, saving model to model-v1.h5\n",
      "Epoch 51/500\n",
      "3/3 [==============================] - 0s 49ms/step - loss: 0.0327 - accuracy: 0.9889 - val_loss: 0.6128 - val_accuracy: 0.6667\n",
      "\n",
      "Epoch 00051: val_loss improved from 0.62366 to 0.61275, saving model to model-v1.h5\n",
      "Epoch 52/500\n",
      "3/3 [==============================] - 0s 32ms/step - loss: 0.0310 - accuracy: 0.9889 - val_loss: 0.6022 - val_accuracy: 0.6667\n",
      "\n",
      "Epoch 00052: val_loss improved from 0.61275 to 0.60220, saving model to model-v1.h5\n",
      "Epoch 53/500\n",
      "3/3 [==============================] - 0s 36ms/step - loss: 0.0299 - accuracy: 0.9889 - val_loss: 0.5904 - val_accuracy: 0.6667\n",
      "\n",
      "Epoch 00053: val_loss improved from 0.60220 to 0.59039, saving model to model-v1.h5\n",
      "Epoch 54/500\n",
      "3/3 [==============================] - 0s 34ms/step - loss: 0.0283 - accuracy: 0.9889 - val_loss: 0.5798 - val_accuracy: 0.6667\n",
      "\n",
      "Epoch 00054: val_loss improved from 0.59039 to 0.57984, saving model to model-v1.h5\n",
      "Epoch 55/500\n",
      "3/3 [==============================] - 0s 33ms/step - loss: 0.0265 - accuracy: 0.9889 - val_loss: 0.5710 - val_accuracy: 0.7778\n",
      "\n",
      "Epoch 00055: val_loss improved from 0.57984 to 0.57103, saving model to model-v1.h5\n",
      "Epoch 56/500\n",
      "3/3 [==============================] - 0s 24ms/step - loss: 0.0255 - accuracy: 1.0000 - val_loss: 0.5613 - val_accuracy: 0.7778\n",
      "\n",
      "Epoch 00056: val_loss improved from 0.57103 to 0.56132, saving model to model-v1.h5\n",
      "Epoch 57/500\n",
      "3/3 [==============================] - 0s 43ms/step - loss: 0.0239 - accuracy: 1.0000 - val_loss: 0.5534 - val_accuracy: 0.7778\n",
      "\n",
      "Epoch 00057: val_loss improved from 0.56132 to 0.55337, saving model to model-v1.h5\n",
      "Epoch 58/500\n",
      "3/3 [==============================] - 0s 32ms/step - loss: 0.0227 - accuracy: 1.0000 - val_loss: 0.5458 - val_accuracy: 0.7778\n",
      "\n",
      "Epoch 00058: val_loss improved from 0.55337 to 0.54583, saving model to model-v1.h5\n",
      "Epoch 59/500\n",
      "3/3 [==============================] - 0s 31ms/step - loss: 0.0218 - accuracy: 1.0000 - val_loss: 0.5375 - val_accuracy: 0.7778\n",
      "\n",
      "Epoch 00059: val_loss improved from 0.54583 to 0.53750, saving model to model-v1.h5\n",
      "Epoch 60/500\n",
      "3/3 [==============================] - 0s 27ms/step - loss: 0.0202 - accuracy: 1.0000 - val_loss: 0.5311 - val_accuracy: 0.7778\n",
      "\n",
      "Epoch 00060: val_loss improved from 0.53750 to 0.53110, saving model to model-v1.h5\n",
      "Epoch 61/500\n",
      "3/3 [==============================] - 0s 32ms/step - loss: 0.0193 - accuracy: 1.0000 - val_loss: 0.5233 - val_accuracy: 0.7778\n",
      "\n",
      "Epoch 00061: val_loss improved from 0.53110 to 0.52335, saving model to model-v1.h5\n",
      "Epoch 62/500\n",
      "3/3 [==============================] - 0s 38ms/step - loss: 0.0185 - accuracy: 1.0000 - val_loss: 0.5161 - val_accuracy: 0.7778\n",
      "\n",
      "Epoch 00062: val_loss improved from 0.52335 to 0.51613, saving model to model-v1.h5\n",
      "Epoch 63/500\n",
      "3/3 [==============================] - 0s 24ms/step - loss: 0.0175 - accuracy: 1.0000 - val_loss: 0.5101 - val_accuracy: 0.7778\n",
      "\n",
      "Epoch 00063: val_loss improved from 0.51613 to 0.51012, saving model to model-v1.h5\n",
      "Epoch 64/500\n",
      "3/3 [==============================] - 0s 39ms/step - loss: 0.0165 - accuracy: 1.0000 - val_loss: 0.5051 - val_accuracy: 0.7778\n",
      "\n",
      "Epoch 00064: val_loss improved from 0.51012 to 0.50512, saving model to model-v1.h5\n",
      "Epoch 65/500\n",
      "3/3 [==============================] - 0s 27ms/step - loss: 0.0155 - accuracy: 1.0000 - val_loss: 0.5013 - val_accuracy: 0.7778\n",
      "\n",
      "Epoch 00065: val_loss improved from 0.50512 to 0.50135, saving model to model-v1.h5\n",
      "Epoch 66/500\n",
      "3/3 [==============================] - 0s 36ms/step - loss: 0.0147 - accuracy: 1.0000 - val_loss: 0.4981 - val_accuracy: 0.7778\n",
      "\n",
      "Epoch 00066: val_loss improved from 0.50135 to 0.49811, saving model to model-v1.h5\n",
      "Epoch 67/500\n",
      "3/3 [==============================] - 0s 35ms/step - loss: 0.0140 - accuracy: 1.0000 - val_loss: 0.4947 - val_accuracy: 0.7778\n",
      "\n",
      "Epoch 00067: val_loss improved from 0.49811 to 0.49475, saving model to model-v1.h5\n",
      "Epoch 68/500\n",
      "3/3 [==============================] - 0s 35ms/step - loss: 0.0134 - accuracy: 1.0000 - val_loss: 0.4917 - val_accuracy: 0.7778\n",
      "\n",
      "Epoch 00068: val_loss improved from 0.49475 to 0.49168, saving model to model-v1.h5\n",
      "Epoch 69/500\n",
      "3/3 [==============================] - 0s 39ms/step - loss: 0.0128 - accuracy: 1.0000 - val_loss: 0.4893 - val_accuracy: 0.7778\n",
      "\n",
      "Epoch 00069: val_loss improved from 0.49168 to 0.48934, saving model to model-v1.h5\n",
      "Epoch 70/500\n",
      "3/3 [==============================] - 0s 46ms/step - loss: 0.0122 - accuracy: 1.0000 - val_loss: 0.4875 - val_accuracy: 0.7778\n",
      "\n",
      "Epoch 00070: val_loss improved from 0.48934 to 0.48752, saving model to model-v1.h5\n",
      "Epoch 71/500\n",
      "3/3 [==============================] - 0s 26ms/step - loss: 0.0115 - accuracy: 1.0000 - val_loss: 0.4868 - val_accuracy: 0.7778\n",
      "\n",
      "Epoch 00071: val_loss improved from 0.48752 to 0.48681, saving model to model-v1.h5\n",
      "Epoch 72/500\n",
      "3/3 [==============================] - 0s 38ms/step - loss: 0.0110 - accuracy: 1.0000 - val_loss: 0.4864 - val_accuracy: 0.7778\n",
      "\n",
      "Epoch 00072: val_loss improved from 0.48681 to 0.48638, saving model to model-v1.h5\n",
      "Epoch 73/500\n",
      "3/3 [==============================] - 0s 28ms/step - loss: 0.0105 - accuracy: 1.0000 - val_loss: 0.4854 - val_accuracy: 0.7778\n",
      "\n",
      "Epoch 00073: val_loss improved from 0.48638 to 0.48539, saving model to model-v1.h5\n"
     ]
    },
    {
     "name": "stdout",
     "output_type": "stream",
     "text": [
      "Epoch 74/500\n",
      "3/3 [==============================] - 0s 34ms/step - loss: 0.0101 - accuracy: 1.0000 - val_loss: 0.4844 - val_accuracy: 0.7778\n",
      "\n",
      "Epoch 00074: val_loss improved from 0.48539 to 0.48435, saving model to model-v1.h5\n",
      "Epoch 75/500\n",
      "3/3 [==============================] - 0s 27ms/step - loss: 0.0097 - accuracy: 1.0000 - val_loss: 0.4832 - val_accuracy: 0.7778\n",
      "\n",
      "Epoch 00075: val_loss improved from 0.48435 to 0.48322, saving model to model-v1.h5\n",
      "Epoch 76/500\n",
      "3/3 [==============================] - 0s 26ms/step - loss: 0.0092 - accuracy: 1.0000 - val_loss: 0.4825 - val_accuracy: 0.7778\n",
      "\n",
      "Epoch 00076: val_loss improved from 0.48322 to 0.48248, saving model to model-v1.h5\n",
      "Epoch 77/500\n",
      "3/3 [==============================] - 0s 28ms/step - loss: 0.0088 - accuracy: 1.0000 - val_loss: 0.4823 - val_accuracy: 0.7778\n",
      "\n",
      "Epoch 00077: val_loss improved from 0.48248 to 0.48229, saving model to model-v1.h5\n",
      "Epoch 78/500\n",
      "3/3 [==============================] - 0s 25ms/step - loss: 0.0085 - accuracy: 1.0000 - val_loss: 0.4822 - val_accuracy: 0.7778\n",
      "\n",
      "Epoch 00078: val_loss improved from 0.48229 to 0.48220, saving model to model-v1.h5\n",
      "Epoch 79/500\n",
      "3/3 [==============================] - 0s 26ms/step - loss: 0.0081 - accuracy: 1.0000 - val_loss: 0.4819 - val_accuracy: 0.7778\n",
      "\n",
      "Epoch 00079: val_loss improved from 0.48220 to 0.48189, saving model to model-v1.h5\n",
      "Epoch 80/500\n",
      "3/3 [==============================] - 0s 31ms/step - loss: 0.0078 - accuracy: 1.0000 - val_loss: 0.4816 - val_accuracy: 0.7778\n",
      "\n",
      "Epoch 00080: val_loss improved from 0.48189 to 0.48163, saving model to model-v1.h5\n",
      "Epoch 81/500\n",
      "3/3 [==============================] - 0s 27ms/step - loss: 0.0076 - accuracy: 1.0000 - val_loss: 0.4815 - val_accuracy: 0.7778\n",
      "\n",
      "Epoch 00081: val_loss improved from 0.48163 to 0.48151, saving model to model-v1.h5\n",
      "Epoch 82/500\n",
      "3/3 [==============================] - 0s 32ms/step - loss: 0.0072 - accuracy: 1.0000 - val_loss: 0.4815 - val_accuracy: 0.7778\n",
      "\n",
      "Epoch 00082: val_loss improved from 0.48151 to 0.48147, saving model to model-v1.h5\n",
      "Epoch 83/500\n",
      "3/3 [==============================] - 0s 24ms/step - loss: 0.0070 - accuracy: 1.0000 - val_loss: 0.4815 - val_accuracy: 0.7778\n",
      "\n",
      "Epoch 00083: val_loss did not improve from 0.48147\n",
      "Epoch 84/500\n",
      "3/3 [==============================] - 0s 32ms/step - loss: 0.0068 - accuracy: 1.0000 - val_loss: 0.4814 - val_accuracy: 0.7778\n",
      "\n",
      "Epoch 00084: val_loss improved from 0.48147 to 0.48140, saving model to model-v1.h5\n",
      "Epoch 85/500\n",
      "3/3 [==============================] - 0s 27ms/step - loss: 0.0065 - accuracy: 1.0000 - val_loss: 0.4816 - val_accuracy: 0.7778\n",
      "\n",
      "Epoch 00085: val_loss did not improve from 0.48140\n",
      "Epoch 86/500\n",
      "3/3 [==============================] - 0s 31ms/step - loss: 0.0063 - accuracy: 1.0000 - val_loss: 0.4819 - val_accuracy: 0.7778\n",
      "\n",
      "Epoch 00086: val_loss did not improve from 0.48140\n",
      "Epoch 87/500\n",
      "3/3 [==============================] - 0s 37ms/step - loss: 0.0060 - accuracy: 1.0000 - val_loss: 0.4821 - val_accuracy: 0.7778\n",
      "\n",
      "Epoch 00087: val_loss did not improve from 0.48140\n",
      "\n",
      "Epoch 00087: ReduceLROnPlateau reducing learning rate to 0.00020000000949949026.\n",
      "Epoch 88/500\n",
      "3/3 [==============================] - 0s 41ms/step - loss: 0.0059 - accuracy: 1.0000 - val_loss: 0.4822 - val_accuracy: 0.7778\n",
      "\n",
      "Epoch 00088: val_loss did not improve from 0.48140\n",
      "Epoch 89/500\n",
      "3/3 [==============================] - 0s 33ms/step - loss: 0.0058 - accuracy: 1.0000 - val_loss: 0.4823 - val_accuracy: 0.7778\n",
      "\n",
      "Epoch 00089: val_loss did not improve from 0.48140\n",
      "Epoch 90/500\n",
      "3/3 [==============================] - 0s 34ms/step - loss: 0.0058 - accuracy: 1.0000 - val_loss: 0.4823 - val_accuracy: 0.7778\n",
      "\n",
      "Epoch 00090: val_loss did not improve from 0.48140\n",
      "\n",
      "Epoch 00090: ReduceLROnPlateau reducing learning rate to 4.0000001899898055e-05.\n",
      "Epoch 91/500\n",
      "3/3 [==============================] - 0s 23ms/step - loss: 0.0058 - accuracy: 1.0000 - val_loss: 0.4823 - val_accuracy: 0.7778\n",
      "\n",
      "Epoch 00091: val_loss did not improve from 0.48140\n",
      "Epoch 92/500\n",
      "3/3 [==============================] - 0s 23ms/step - loss: 0.0058 - accuracy: 1.0000 - val_loss: 0.4823 - val_accuracy: 0.7778\n",
      "\n",
      "Epoch 00092: val_loss did not improve from 0.48140\n",
      "Epoch 93/500\n",
      "3/3 [==============================] - 0s 35ms/step - loss: 0.0058 - accuracy: 1.0000 - val_loss: 0.4823 - val_accuracy: 0.7778\n",
      "\n",
      "Epoch 00093: val_loss did not improve from 0.48140\n",
      "\n",
      "Epoch 00093: ReduceLROnPlateau reducing learning rate to 8.000000525498762e-06.\n",
      "Epoch 94/500\n",
      "3/3 [==============================] - 0s 37ms/step - loss: 0.0058 - accuracy: 1.0000 - val_loss: 0.4823 - val_accuracy: 0.7778\n",
      "\n",
      "Epoch 00094: val_loss did not improve from 0.48140\n"
     ]
    }
   ],
   "source": [
    "history = model.fit(X_train, y_train, epochs=500, verbose=1,validation_data=(X_test,y_test),callbacks=callbacks)"
   ]
  },
  {
   "cell_type": "code",
   "execution_count": null,
   "metadata": {},
   "outputs": [],
   "source": []
  },
  {
   "cell_type": "code",
   "execution_count": 130,
   "metadata": {},
   "outputs": [
    {
     "data": {
      "image/png": "[encoded data removed]",
      "text/plain": [
       "<Figure size 1152x576 with 2 Axes>"
      ]
     },
     "metadata": {
      "needs_background": "light"
     },
     "output_type": "display_data"
    }
   ],
   "source": [
    "acc = history.history['accuracy']\n",
    "val_acc = history.history['val_accuracy']\n",
    "loss=history.history['loss']\n",
    "val_loss=history.history['val_loss']\n",
    "\n",
    "plt.figure(figsize=(16,8))\n",
    "plt.subplot(1, 2, 1)\n",
    "plt.plot(acc, label='Training Accuracy')\n",
    "plt.plot(val_acc, label='Validation Accuracy')\n",
    "plt.legend(loc='lower right')\n",
    "plt.title('Training and Validation Accuracy')\n",
    "\n",
    "plt.subplot(1, 2, 2)\n",
    "plt.plot(loss, label='Training Loss')\n",
    "plt.plot(val_loss, label='Validation Loss')\n",
    "plt.legend(loc='upper right')\n",
    "plt.title('Training and Validation Loss')\n",
    "plt.show()"
   ]
  },
  {
   "cell_type": "code",
   "execution_count": 131,
   "metadata": {},
   "outputs": [
    {
     "data": {
      "text/plain": [
       "[0, 2, 1, 3, 4, 5, 6, 7, 8]"
      ]
     },
     "execution_count": 131,
     "metadata": {},
     "output_type": "execute_result"
    }
   ],
   "source": [
    "[np.argmax(i) for i in model.predict(X_test)][:10]"
   ]
  },
  {
   "cell_type": "code",
   "execution_count": 132,
   "metadata": {},
   "outputs": [
    {
     "data": {
      "text/plain": [
       "[0, 1, 2, 3, 4, 5, 6, 7, 8]"
      ]
     },
     "execution_count": 132,
     "metadata": {},
     "output_type": "execute_result"
    }
   ],
   "source": [
    "[np.argmax(i) for i in y_test][:10]"
   ]
  },
  {
   "cell_type": "code",
   "execution_count": null,
   "metadata": {},
   "outputs": [],
   "source": []
  }
 ],
 "metadata": {
  "kernelspec": {
   "display_name": "Python 3",
   "language": "python",
   "name": "python3"
  },
  "language_info": {
   "codemirror_mode": {
    "name": "ipython",
    "version": 3
   },
   "file_extension": ".py",
   "mimetype": "text/x-python",
   "name": "python",
   "nbconvert_exporter": "python",
   "pygments_lexer": "ipython3",
   "version": "3.8.5"
  }
 },
 "nbformat": 4,
 "nbformat_minor": 4
}
