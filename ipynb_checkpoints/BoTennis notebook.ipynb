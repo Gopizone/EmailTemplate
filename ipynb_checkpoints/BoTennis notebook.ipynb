{
 "cells": [
  {
   "cell_type": "code",
   "execution_count": 1,
   "metadata": {},
   "outputs": [],
   "source": [
    "import pandas as pd \n",
    "import numpy as np \n",
    "import matplotlib.pyplot as plt\n",
    "from pathlib import Path\n",
    "import string\n",
    "import re\n",
    "import joblib\n",
    "import json\n",
    "from collections import Counter\n",
    "import nltk\n",
    "from nltk.corpus import stopwords\n",
    "from nltk.stem import WordNetLemmatizer\n",
    "\n",
    "from tensorflow.keras.preprocessing.text import Tokenizer\n",
    "from tensorflow.keras.preprocessing.sequence import pad_sequences\n",
    "from tensorflow.keras.utils import plot_model\n",
    "from tensorflow.keras.models import Sequential\n",
    "from tensorflow.keras.layers import Embedding, Dense, Flatten\n",
    "from tensorflow.keras.layers import Conv1D\n",
    "from tensorflow.keras.layers import MaxPooling1D\n",
    "from tensorflow.keras.callbacks import ModelCheckpoint, EarlyStopping, ReduceLROnPlateau"
   ]
  },
  {
   "cell_type": "code",
   "execution_count": 2,
   "metadata": {},
   "outputs": [
    {
     "name": "stderr",
     "output_type": "stream",
     "text": [
      "[nltk_data] Downloading package wordnet to\n",
      "[nltk_data]     C:\\Users\\IpoG\\AppData\\Roaming\\nltk_data...\n",
      "[nltk_data]   Package wordnet is already up-to-date!\n"
     ]
    },
    {
     "data": {
      "text/plain": [
       "True"
      ]
     },
     "execution_count": 2,
     "metadata": {},
     "output_type": "execute_result"
    }
   ],
   "source": [
    "nltk.download('wordnet')"
   ]
  },
  {
   "cell_type": "code",
   "execution_count": 3,
   "metadata": {},
   "outputs": [],
   "source": [
    "def load_doc(jsonFile):\n",
    "    with open(jsonFile) as file:\n",
    "        Json_data = json.loads(file.read())\n",
    "    return Json_data"
   ]
  },
  {
   "cell_type": "code",
   "execution_count": 4,
   "metadata": {},
   "outputs": [],
   "source": [
    "data = load_doc(\"F:\\\\Data Science Excler\\\\Project\\\\P50\\\\Final\\\\intents.json\")"
   ]
  },
  {
   "cell_type": "code",
   "execution_count": 5,
   "metadata": {},
   "outputs": [],
   "source": [
    "def frame_data(feat_1,feat_2,is_pattern):\n",
    "    is_pattern = is_pattern\n",
    "    df = pd.DataFrame(columns=[feat_1,feat_2])\n",
    "    for intent in data['intents']:\n",
    "        if is_pattern:\n",
    "            for pattern in intent['patterns']:\n",
    "                w = pattern\n",
    "                df_to_append = pd.Series([w,intent['tag']], index = df.columns)\n",
    "                df = df.append(df_to_append,ignore_index=True)\n",
    "        else:\n",
    "            for response in intent['responses']:\n",
    "                w = response\n",
    "                df_to_append = pd.Series([w,intent['tag']], index = df.columns)\n",
    "                df = df.append(df_to_append,ignore_index=True)\n",
    "    return df"
   ]
  },
  {
   "cell_type": "code",
   "execution_count": 6,
   "metadata": {},
   "outputs": [
    {
     "data": {
      "text/html": [
       "<div>\n",
       "<style scoped>\n",
       "    .dataframe tbody tr th:only-of-type {\n",
       "        vertical-align: middle;\n",
       "    }\n",
       "\n",
       "    .dataframe tbody tr th {\n",
       "        vertical-align: top;\n",
       "    }\n",
       "\n",
       "    .dataframe thead th {\n",
       "        text-align: right;\n",
       "    }\n",
       "</style>\n",
       "<table border=\"1\" class=\"dataframe\">\n",
       "  <thead>\n",
       "    <tr style=\"text-align: right;\">\n",
       "      <th></th>\n",
       "      <th>questions</th>\n",
       "      <th>labels</th>\n",
       "    </tr>\n",
       "  </thead>\n",
       "  <tbody>\n",
       "    <tr>\n",
       "      <th>0</th>\n",
       "      <td>Hi there</td>\n",
       "      <td>start_conversation</td>\n",
       "    </tr>\n",
       "    <tr>\n",
       "      <th>1</th>\n",
       "      <td>Is anyone there?</td>\n",
       "      <td>start_conversation</td>\n",
       "    </tr>\n",
       "    <tr>\n",
       "      <th>2</th>\n",
       "      <td>Hey</td>\n",
       "      <td>start_conversation</td>\n",
       "    </tr>\n",
       "    <tr>\n",
       "      <th>3</th>\n",
       "      <td>Hola</td>\n",
       "      <td>start_conversation</td>\n",
       "    </tr>\n",
       "    <tr>\n",
       "      <th>4</th>\n",
       "      <td>Hello</td>\n",
       "      <td>start_conversation</td>\n",
       "    </tr>\n",
       "    <tr>\n",
       "      <th>...</th>\n",
       "      <td>...</td>\n",
       "      <td>...</td>\n",
       "    </tr>\n",
       "    <tr>\n",
       "      <th>84</th>\n",
       "      <td>What is Pruning in Decision Tree?</td>\n",
       "      <td>Decision_tree</td>\n",
       "    </tr>\n",
       "    <tr>\n",
       "      <th>85</th>\n",
       "      <td>What are the advantage of Pruning?</td>\n",
       "      <td>Decision_tree</td>\n",
       "    </tr>\n",
       "    <tr>\n",
       "      <th>86</th>\n",
       "      <td>What is the difference between Entropy and Inf...</td>\n",
       "      <td>Decision_tree</td>\n",
       "    </tr>\n",
       "    <tr>\n",
       "      <th>87</th>\n",
       "      <td>Explain the expression of Gain of any column?</td>\n",
       "      <td>Decision_tree</td>\n",
       "    </tr>\n",
       "    <tr>\n",
       "      <th>88</th>\n",
       "      <td>What is the package required to implement Deci...</td>\n",
       "      <td>Decision_tree</td>\n",
       "    </tr>\n",
       "  </tbody>\n",
       "</table>\n",
       "<p>89 rows × 2 columns</p>\n",
       "</div>"
      ],
      "text/plain": [
       "                                            questions              labels\n",
       "0                                            Hi there  start_conversation\n",
       "1                                    Is anyone there?  start_conversation\n",
       "2                                                 Hey  start_conversation\n",
       "3                                                Hola  start_conversation\n",
       "4                                               Hello  start_conversation\n",
       "..                                                ...                 ...\n",
       "84                  What is Pruning in Decision Tree?       Decision_tree\n",
       "85                 What are the advantage of Pruning?       Decision_tree\n",
       "86  What is the difference between Entropy and Inf...       Decision_tree\n",
       "87      Explain the expression of Gain of any column?       Decision_tree\n",
       "88  What is the package required to implement Deci...       Decision_tree\n",
       "\n",
       "[89 rows x 2 columns]"
      ]
     },
     "execution_count": 6,
     "metadata": {},
     "output_type": "execute_result"
    }
   ],
   "source": [
    "# users intents \n",
    "df1 = frame_data('questions','labels',True)\n",
    "df1"
   ]
  },
  {
   "cell_type": "code",
   "execution_count": 7,
   "metadata": {},
   "outputs": [
    {
     "data": {
      "text/plain": [
       "normalization          8\n",
       "thanks                 5\n",
       "SVM                   10\n",
       "what_are_you           4\n",
       "probability            2\n",
       "Decision_tree          9\n",
       "function               7\n",
       "distribution           2\n",
       "start_conversation     7\n",
       "Z_transformation       3\n",
       "bot_scope              5\n",
       "options                8\n",
       "Clustering             8\n",
       "KNN                    4\n",
       "Naive_Bayes            2\n",
       "end_conversation       5\n",
       "Name: labels, dtype: int64"
      ]
     },
     "execution_count": 7,
     "metadata": {},
     "output_type": "execute_result"
    }
   ],
   "source": [
    "df1.labels.value_counts(sort=False)"
   ]
  },
  {
   "cell_type": "code",
   "execution_count": 8,
   "metadata": {},
   "outputs": [
    {
     "data": {
      "text/html": [
       "<div>\n",
       "<style scoped>\n",
       "    .dataframe tbody tr th:only-of-type {\n",
       "        vertical-align: middle;\n",
       "    }\n",
       "\n",
       "    .dataframe tbody tr th {\n",
       "        vertical-align: top;\n",
       "    }\n",
       "\n",
       "    .dataframe thead th {\n",
       "        text-align: right;\n",
       "    }\n",
       "</style>\n",
       "<table border=\"1\" class=\"dataframe\">\n",
       "  <thead>\n",
       "    <tr style=\"text-align: right;\">\n",
       "      <th></th>\n",
       "      <th>response</th>\n",
       "      <th>labels</th>\n",
       "    </tr>\n",
       "  </thead>\n",
       "  <tbody>\n",
       "    <tr>\n",
       "      <th>0</th>\n",
       "      <td>Hello, I'm sure you are interested in Data Sci...</td>\n",
       "      <td>start_conversation</td>\n",
       "    </tr>\n",
       "    <tr>\n",
       "      <th>1</th>\n",
       "      <td>Happy to have you here</td>\n",
       "      <td>start_conversation</td>\n",
       "    </tr>\n",
       "    <tr>\n",
       "      <th>2</th>\n",
       "      <td>Good to see you again</td>\n",
       "      <td>start_conversation</td>\n",
       "    </tr>\n",
       "    <tr>\n",
       "      <th>3</th>\n",
       "      <td>Hi there, how can I help?</td>\n",
       "      <td>start_conversation</td>\n",
       "    </tr>\n",
       "    <tr>\n",
       "      <th>4</th>\n",
       "      <td>Hi, I'm  DS Chatbot</td>\n",
       "      <td>what_are_you</td>\n",
       "    </tr>\n",
       "  </tbody>\n",
       "</table>\n",
       "</div>"
      ],
      "text/plain": [
       "                                            response              labels\n",
       "0  Hello, I'm sure you are interested in Data Sci...  start_conversation\n",
       "1                             Happy to have you here  start_conversation\n",
       "2                              Good to see you again  start_conversation\n",
       "3                          Hi there, how can I help?  start_conversation\n",
       "4                                Hi, I'm  DS Chatbot        what_are_you"
      ]
     },
     "execution_count": 8,
     "metadata": {},
     "output_type": "execute_result"
    }
   ],
   "source": [
    "# Bot response\n",
    "df2 = frame_data('response','labels',False)\n",
    "df2.head()"
   ]
  },
  {
   "cell_type": "code",
   "execution_count": 9,
   "metadata": {},
   "outputs": [],
   "source": [
    "lemmatizer = WordNetLemmatizer()\n",
    "\n",
    "vocab = Counter()\n",
    "labels = []\n",
    "def tokenizer(entry):\n",
    "    tokens = entry.split()\n",
    "    re_punc = re.compile('[%s]' % re.escape(string.punctuation))\n",
    "    tokens = [re_punc.sub('', w) for w in tokens]\n",
    "    tokens = [word for word in tokens if word.isalpha()]\n",
    "    tokens = [lemmatizer.lemmatize(w.lower()) for w in tokens]\n",
    "#     stop_words = set(stopwords.words('english'))\n",
    "#     tokens = [w for w in tokens if not w in stop_words]\n",
    "    tokens = [word.lower() for word in tokens if len(word) > 1]\n",
    "    return tokens"
   ]
  },
  {
   "cell_type": "code",
   "execution_count": 10,
   "metadata": {},
   "outputs": [],
   "source": [
    "def remove_stop_words(tokenizer,df,feature):\n",
    "    doc_without_stopwords = []\n",
    "    for entry in df[feature]:\n",
    "        tokens = tokenizer(entry)\n",
    "        joblib.dump(tokens,'tokens.pkl')\n",
    "        doc_without_stopwords.append(' '.join(tokens))\n",
    "    df[feature] = doc_without_stopwords\n",
    "    return "
   ]
  },
  {
   "cell_type": "code",
   "execution_count": null,
   "metadata": {},
   "outputs": [],
   "source": []
  },
  {
   "cell_type": "code",
   "execution_count": 11,
   "metadata": {},
   "outputs": [],
   "source": [
    "def create_vocab(tokenizer,df,feature):\n",
    "    for entry in df[feature]:\n",
    "        tokens = tokenizer(entry)   \n",
    "        vocab.update(tokens)\n",
    "    joblib.dump(vocab,'vocab.pkl')\n",
    "    return "
   ]
  },
  {
   "cell_type": "code",
   "execution_count": 12,
   "metadata": {},
   "outputs": [],
   "source": [
    "create_vocab(tokenizer,df1,'questions')\n",
    "remove_stop_words(tokenizer,df1,'questions')"
   ]
  },
  {
   "cell_type": "code",
   "execution_count": 13,
   "metadata": {},
   "outputs": [
    {
     "name": "stdout",
     "output_type": "stream",
     "text": [
      "[('what', 45), ('is', 32), ('you', 24), ('in', 18), ('do', 17), ('the', 15), ('of', 15), ('are', 10), ('svm', 10), ('how', 8), ('by', 8), ('clustering', 8), ('to', 7), ('data', 7), ('mean', 7), ('decision', 6), ('tree', 6), ('can', 5), ('about', 5), ('science', 5)]\n"
     ]
    }
   ],
   "source": [
    "print(vocab.most_common(20))"
   ]
  },
  {
   "cell_type": "code",
   "execution_count": 14,
   "metadata": {},
   "outputs": [
    {
     "data": {
      "text/plain": [
       "170"
      ]
     },
     "execution_count": 14,
     "metadata": {},
     "output_type": "execute_result"
    }
   ],
   "source": [
    "vocab_size = len(vocab)\n",
    "vocab_size"
   ]
  },
  {
   "cell_type": "code",
   "execution_count": 15,
   "metadata": {},
   "outputs": [
    {
     "data": {
      "text/html": [
       "<div>\n",
       "<style scoped>\n",
       "    .dataframe tbody tr th:only-of-type {\n",
       "        vertical-align: middle;\n",
       "    }\n",
       "\n",
       "    .dataframe tbody tr th {\n",
       "        vertical-align: top;\n",
       "    }\n",
       "\n",
       "    .dataframe thead th {\n",
       "        text-align: right;\n",
       "    }\n",
       "</style>\n",
       "<table border=\"1\" class=\"dataframe\">\n",
       "  <thead>\n",
       "    <tr style=\"text-align: right;\">\n",
       "      <th></th>\n",
       "      <th>questions</th>\n",
       "      <th>labels</th>\n",
       "    </tr>\n",
       "  </thead>\n",
       "  <tbody>\n",
       "    <tr>\n",
       "      <th>0</th>\n",
       "      <td>hi there</td>\n",
       "      <td>start_conversation</td>\n",
       "    </tr>\n",
       "    <tr>\n",
       "      <th>1</th>\n",
       "      <td>is anyone there</td>\n",
       "      <td>start_conversation</td>\n",
       "    </tr>\n",
       "    <tr>\n",
       "      <th>2</th>\n",
       "      <td>hey</td>\n",
       "      <td>start_conversation</td>\n",
       "    </tr>\n",
       "    <tr>\n",
       "      <th>3</th>\n",
       "      <td>hola</td>\n",
       "      <td>start_conversation</td>\n",
       "    </tr>\n",
       "    <tr>\n",
       "      <th>4</th>\n",
       "      <td>hello</td>\n",
       "      <td>start_conversation</td>\n",
       "    </tr>\n",
       "    <tr>\n",
       "      <th>...</th>\n",
       "      <td>...</td>\n",
       "      <td>...</td>\n",
       "    </tr>\n",
       "    <tr>\n",
       "      <th>84</th>\n",
       "      <td>what is pruning in decision tree</td>\n",
       "      <td>Decision_tree</td>\n",
       "    </tr>\n",
       "    <tr>\n",
       "      <th>85</th>\n",
       "      <td>what are the advantage of pruning</td>\n",
       "      <td>Decision_tree</td>\n",
       "    </tr>\n",
       "    <tr>\n",
       "      <th>86</th>\n",
       "      <td>what is the difference between entropy and inf...</td>\n",
       "      <td>Decision_tree</td>\n",
       "    </tr>\n",
       "    <tr>\n",
       "      <th>87</th>\n",
       "      <td>explain the expression of gain of any column</td>\n",
       "      <td>Decision_tree</td>\n",
       "    </tr>\n",
       "    <tr>\n",
       "      <th>88</th>\n",
       "      <td>what is the package required to implement deci...</td>\n",
       "      <td>Decision_tree</td>\n",
       "    </tr>\n",
       "  </tbody>\n",
       "</table>\n",
       "<p>89 rows × 2 columns</p>\n",
       "</div>"
      ],
      "text/plain": [
       "                                            questions              labels\n",
       "0                                            hi there  start_conversation\n",
       "1                                     is anyone there  start_conversation\n",
       "2                                                 hey  start_conversation\n",
       "3                                                hola  start_conversation\n",
       "4                                               hello  start_conversation\n",
       "..                                                ...                 ...\n",
       "84                   what is pruning in decision tree       Decision_tree\n",
       "85                  what are the advantage of pruning       Decision_tree\n",
       "86  what is the difference between entropy and inf...       Decision_tree\n",
       "87       explain the expression of gain of any column       Decision_tree\n",
       "88  what is the package required to implement deci...       Decision_tree\n",
       "\n",
       "[89 rows x 2 columns]"
      ]
     },
     "execution_count": 15,
     "metadata": {},
     "output_type": "execute_result"
    }
   ],
   "source": [
    "df1"
   ]
  },
  {
   "cell_type": "code",
   "execution_count": 16,
   "metadata": {},
   "outputs": [
    {
     "data": {
      "text/plain": [
       "['why is hierarchial clustering called agglomerative clustering',\n",
       " 'what is decision tree',\n",
       " 'why is knn called nonparametric algorithm',\n",
       " 'what is bayes theorem',\n",
       " 'what is svm',\n",
       " 'what is the range of transformed variable',\n",
       " 'what do you know about data science',\n",
       " 'what do you mean by degree of freedom',\n",
       " 'bye',\n",
       " 'what do you mean by hypothesis testing',\n",
       " 'what is the range of variable when normalization technique is employed',\n",
       " 'how can you help me',\n",
       " 'what is probability',\n",
       " 'hi there',\n",
       " 'thanks',\n",
       " 'what is your name']"
      ]
     },
     "execution_count": 16,
     "metadata": {},
     "output_type": "execute_result"
    }
   ],
   "source": [
    "test_list = list(df1.groupby(by='labels',as_index=False).first()['questions'])\n",
    "test_list"
   ]
  },
  {
   "cell_type": "code",
   "execution_count": 17,
   "metadata": {},
   "outputs": [
    {
     "data": {
      "text/plain": [
       "[44, 80, 72, 78, 34, 52, 29, 63, 11, 65, 55, 21, 76, 0, 16, 7]"
      ]
     },
     "execution_count": 17,
     "metadata": {},
     "output_type": "execute_result"
    }
   ],
   "source": [
    "test_index = []\n",
    "for i,_ in enumerate(test_list):\n",
    "    idx = df1[df1.questions == test_list[i]].index[0]\n",
    "    test_index.append(idx)\n",
    "test_index"
   ]
  },
  {
   "cell_type": "code",
   "execution_count": 18,
   "metadata": {},
   "outputs": [],
   "source": [
    "train_index = [i for i in df1.index if i not in test_index]"
   ]
  },
  {
   "cell_type": "code",
   "execution_count": 19,
   "metadata": {},
   "outputs": [
    {
     "data": {
      "text/plain": [
       "'hi there is anyone hey hola hello good day what your name are you who pls bye see later goodbye nice chatting to till next time thanks thank thats helpful awesome for helping me how can help do provide be support offered know about data science tell really lot exactly mean by guide through svm the tuning parameter of explain kernel in need convert categorical variable into numeric if yes regularization gamma margin package used function implement hinge loss why hierarchial clustering called agglomerative when say that resultant cluster which domain we employ example normalization required before applying linkage decide upon number interpret output range transformed roc ztransform any signal cannot contain pole true or false transformation technique employed dummy heteroscedasticity multicollinearity test understand use degree freedom go distribution hypothesis testing null curve work naive bayes so prior probability difference between covariance and correlation knn nonparametric algorithm lazy choose value join theorem assumption classifier decision tree rule different type node they selected imurity pruning advantage entropy information gain expression column'"
      ]
     },
     "execution_count": 19,
     "metadata": {},
     "output_type": "execute_result"
    }
   ],
   "source": [
    "' '.join(list(vocab.keys()))"
   ]
  },
  {
   "cell_type": "code",
   "execution_count": 20,
   "metadata": {},
   "outputs": [],
   "source": [
    "def encoder(df,feature):\n",
    "#     text = ' '.join(list(vocab.keys()))\n",
    "    t = Tokenizer()\n",
    "    entries = [entry for entry in df[feature]]\n",
    "    t.fit_on_texts(entries)\n",
    "    joblib.dump(t,'tokenizer_t.pkl')\n",
    "    vocab_size = len(t.word_index) + 1\n",
    "    entries = [entry for entry in df[feature]]\n",
    "    max_length = max([len(s.split()) for s in entries])\n",
    "    encoded = t.texts_to_sequences(entries)\n",
    "    padded = pad_sequences(encoded, maxlen=max_length, padding='post')\n",
    "    return padded, vocab_size"
   ]
  },
  {
   "cell_type": "code",
   "execution_count": 21,
   "metadata": {},
   "outputs": [],
   "source": [
    "X,vocab_size = encoder(df1,'questions')"
   ]
  },
  {
   "cell_type": "code",
   "execution_count": 22,
   "metadata": {},
   "outputs": [],
   "source": [
    "df_encoded = pd.DataFrame(X)"
   ]
  },
  {
   "cell_type": "code",
   "execution_count": 23,
   "metadata": {},
   "outputs": [
    {
     "data": {
      "text/html": [
       "<div>\n",
       "<style scoped>\n",
       "    .dataframe tbody tr th:only-of-type {\n",
       "        vertical-align: middle;\n",
       "    }\n",
       "\n",
       "    .dataframe tbody tr th {\n",
       "        vertical-align: top;\n",
       "    }\n",
       "\n",
       "    .dataframe thead th {\n",
       "        text-align: right;\n",
       "    }\n",
       "</style>\n",
       "<table border=\"1\" class=\"dataframe\">\n",
       "  <thead>\n",
       "    <tr style=\"text-align: right;\">\n",
       "      <th></th>\n",
       "      <th>0</th>\n",
       "      <th>1</th>\n",
       "      <th>2</th>\n",
       "      <th>3</th>\n",
       "      <th>4</th>\n",
       "      <th>5</th>\n",
       "      <th>6</th>\n",
       "      <th>7</th>\n",
       "      <th>8</th>\n",
       "      <th>9</th>\n",
       "      <th>10</th>\n",
       "      <th>11</th>\n",
       "      <th>12</th>\n",
       "      <th>13</th>\n",
       "      <th>labels</th>\n",
       "    </tr>\n",
       "  </thead>\n",
       "  <tbody>\n",
       "    <tr>\n",
       "      <th>0</th>\n",
       "      <td>45</td>\n",
       "      <td>30</td>\n",
       "      <td>0</td>\n",
       "      <td>0</td>\n",
       "      <td>0</td>\n",
       "      <td>0</td>\n",
       "      <td>0</td>\n",
       "      <td>0</td>\n",
       "      <td>0</td>\n",
       "      <td>0</td>\n",
       "      <td>0</td>\n",
       "      <td>0</td>\n",
       "      <td>0</td>\n",
       "      <td>0</td>\n",
       "      <td>start_conversation</td>\n",
       "    </tr>\n",
       "    <tr>\n",
       "      <th>1</th>\n",
       "      <td>2</td>\n",
       "      <td>66</td>\n",
       "      <td>30</td>\n",
       "      <td>0</td>\n",
       "      <td>0</td>\n",
       "      <td>0</td>\n",
       "      <td>0</td>\n",
       "      <td>0</td>\n",
       "      <td>0</td>\n",
       "      <td>0</td>\n",
       "      <td>0</td>\n",
       "      <td>0</td>\n",
       "      <td>0</td>\n",
       "      <td>0</td>\n",
       "      <td>start_conversation</td>\n",
       "    </tr>\n",
       "    <tr>\n",
       "      <th>2</th>\n",
       "      <td>67</td>\n",
       "      <td>0</td>\n",
       "      <td>0</td>\n",
       "      <td>0</td>\n",
       "      <td>0</td>\n",
       "      <td>0</td>\n",
       "      <td>0</td>\n",
       "      <td>0</td>\n",
       "      <td>0</td>\n",
       "      <td>0</td>\n",
       "      <td>0</td>\n",
       "      <td>0</td>\n",
       "      <td>0</td>\n",
       "      <td>0</td>\n",
       "      <td>start_conversation</td>\n",
       "    </tr>\n",
       "    <tr>\n",
       "      <th>3</th>\n",
       "      <td>68</td>\n",
       "      <td>0</td>\n",
       "      <td>0</td>\n",
       "      <td>0</td>\n",
       "      <td>0</td>\n",
       "      <td>0</td>\n",
       "      <td>0</td>\n",
       "      <td>0</td>\n",
       "      <td>0</td>\n",
       "      <td>0</td>\n",
       "      <td>0</td>\n",
       "      <td>0</td>\n",
       "      <td>0</td>\n",
       "      <td>0</td>\n",
       "      <td>start_conversation</td>\n",
       "    </tr>\n",
       "    <tr>\n",
       "      <th>4</th>\n",
       "      <td>69</td>\n",
       "      <td>0</td>\n",
       "      <td>0</td>\n",
       "      <td>0</td>\n",
       "      <td>0</td>\n",
       "      <td>0</td>\n",
       "      <td>0</td>\n",
       "      <td>0</td>\n",
       "      <td>0</td>\n",
       "      <td>0</td>\n",
       "      <td>0</td>\n",
       "      <td>0</td>\n",
       "      <td>0</td>\n",
       "      <td>0</td>\n",
       "      <td>start_conversation</td>\n",
       "    </tr>\n",
       "  </tbody>\n",
       "</table>\n",
       "</div>"
      ],
      "text/plain": [
       "    0   1   2  3  4  5  6  7  8  9  10  11  12  13              labels\n",
       "0  45  30   0  0  0  0  0  0  0  0   0   0   0   0  start_conversation\n",
       "1   2  66  30  0  0  0  0  0  0  0   0   0   0   0  start_conversation\n",
       "2  67   0   0  0  0  0  0  0  0  0   0   0   0   0  start_conversation\n",
       "3  68   0   0  0  0  0  0  0  0  0   0   0   0   0  start_conversation\n",
       "4  69   0   0  0  0  0  0  0  0  0   0   0   0   0  start_conversation"
      ]
     },
     "execution_count": 23,
     "metadata": {},
     "output_type": "execute_result"
    }
   ],
   "source": [
    "df_encoded['labels'] = df1.labels\n",
    "df_encoded.head()"
   ]
  },
  {
   "cell_type": "code",
   "execution_count": 24,
   "metadata": {},
   "outputs": [],
   "source": [
    "for i in range(0,2):\n",
    "    dt = [0]*14\n",
    "    dt.append('confused')\n",
    "    dt = [dt]\n",
    "    pd.DataFrame(dt).rename(columns = {14:'labels'})\n",
    "    df_encoded = df_encoded.append(pd.DataFrame(dt).rename(columns = {14:'labels'}),ignore_index=True)"
   ]
  },
  {
   "cell_type": "code",
   "execution_count": 25,
   "metadata": {},
   "outputs": [
    {
     "data": {
      "text/html": [
       "<div>\n",
       "<style scoped>\n",
       "    .dataframe tbody tr th:only-of-type {\n",
       "        vertical-align: middle;\n",
       "    }\n",
       "\n",
       "    .dataframe tbody tr th {\n",
       "        vertical-align: top;\n",
       "    }\n",
       "\n",
       "    .dataframe thead th {\n",
       "        text-align: right;\n",
       "    }\n",
       "</style>\n",
       "<table border=\"1\" class=\"dataframe\">\n",
       "  <thead>\n",
       "    <tr style=\"text-align: right;\">\n",
       "      <th></th>\n",
       "      <th>0</th>\n",
       "      <th>1</th>\n",
       "      <th>2</th>\n",
       "      <th>3</th>\n",
       "      <th>4</th>\n",
       "      <th>5</th>\n",
       "      <th>6</th>\n",
       "      <th>7</th>\n",
       "      <th>8</th>\n",
       "      <th>9</th>\n",
       "      <th>10</th>\n",
       "      <th>11</th>\n",
       "      <th>12</th>\n",
       "      <th>13</th>\n",
       "      <th>labels</th>\n",
       "    </tr>\n",
       "  </thead>\n",
       "  <tbody>\n",
       "    <tr>\n",
       "      <th>86</th>\n",
       "      <td>1</td>\n",
       "      <td>2</td>\n",
       "      <td>6</td>\n",
       "      <td>42</td>\n",
       "      <td>43</td>\n",
       "      <td>167</td>\n",
       "      <td>28</td>\n",
       "      <td>168</td>\n",
       "      <td>65</td>\n",
       "      <td>0</td>\n",
       "      <td>0</td>\n",
       "      <td>0</td>\n",
       "      <td>0</td>\n",
       "      <td>0</td>\n",
       "      <td>Decision_tree</td>\n",
       "    </tr>\n",
       "    <tr>\n",
       "      <th>87</th>\n",
       "      <td>21</td>\n",
       "      <td>6</td>\n",
       "      <td>169</td>\n",
       "      <td>7</td>\n",
       "      <td>65</td>\n",
       "      <td>7</td>\n",
       "      <td>60</td>\n",
       "      <td>170</td>\n",
       "      <td>0</td>\n",
       "      <td>0</td>\n",
       "      <td>0</td>\n",
       "      <td>0</td>\n",
       "      <td>0</td>\n",
       "      <td>0</td>\n",
       "      <td>Decision_tree</td>\n",
       "    </tr>\n",
       "    <tr>\n",
       "      <th>88</th>\n",
       "      <td>1</td>\n",
       "      <td>2</td>\n",
       "      <td>6</td>\n",
       "      <td>51</td>\n",
       "      <td>57</td>\n",
       "      <td>13</td>\n",
       "      <td>53</td>\n",
       "      <td>16</td>\n",
       "      <td>17</td>\n",
       "      <td>4</td>\n",
       "      <td>0</td>\n",
       "      <td>0</td>\n",
       "      <td>0</td>\n",
       "      <td>0</td>\n",
       "      <td>Decision_tree</td>\n",
       "    </tr>\n",
       "    <tr>\n",
       "      <th>89</th>\n",
       "      <td>0</td>\n",
       "      <td>0</td>\n",
       "      <td>0</td>\n",
       "      <td>0</td>\n",
       "      <td>0</td>\n",
       "      <td>0</td>\n",
       "      <td>0</td>\n",
       "      <td>0</td>\n",
       "      <td>0</td>\n",
       "      <td>0</td>\n",
       "      <td>0</td>\n",
       "      <td>0</td>\n",
       "      <td>0</td>\n",
       "      <td>0</td>\n",
       "      <td>confused</td>\n",
       "    </tr>\n",
       "    <tr>\n",
       "      <th>90</th>\n",
       "      <td>0</td>\n",
       "      <td>0</td>\n",
       "      <td>0</td>\n",
       "      <td>0</td>\n",
       "      <td>0</td>\n",
       "      <td>0</td>\n",
       "      <td>0</td>\n",
       "      <td>0</td>\n",
       "      <td>0</td>\n",
       "      <td>0</td>\n",
       "      <td>0</td>\n",
       "      <td>0</td>\n",
       "      <td>0</td>\n",
       "      <td>0</td>\n",
       "      <td>confused</td>\n",
       "    </tr>\n",
       "  </tbody>\n",
       "</table>\n",
       "</div>"
      ],
      "text/plain": [
       "     0  1    2   3   4    5   6    7   8  9  10  11  12  13         labels\n",
       "86   1  2    6  42  43  167  28  168  65  0   0   0   0   0  Decision_tree\n",
       "87  21  6  169   7  65    7  60  170   0  0   0   0   0   0  Decision_tree\n",
       "88   1  2    6  51  57   13  53   16  17  4   0   0   0   0  Decision_tree\n",
       "89   0  0    0   0   0    0   0    0   0  0   0   0   0   0       confused\n",
       "90   0  0    0   0   0    0   0    0   0  0   0   0   0   0       confused"
      ]
     },
     "execution_count": 25,
     "metadata": {},
     "output_type": "execute_result"
    }
   ],
   "source": [
    "df_encoded.tail()"
   ]
  },
  {
   "cell_type": "code",
   "execution_count": 26,
   "metadata": {},
   "outputs": [],
   "source": [
    "train_index.append(89)"
   ]
  },
  {
   "cell_type": "code",
   "execution_count": 27,
   "metadata": {},
   "outputs": [],
   "source": [
    "test_index.append(90)"
   ]
  },
  {
   "cell_type": "code",
   "execution_count": 28,
   "metadata": {},
   "outputs": [],
   "source": [
    "# df_encoded = df_encoded.append(pd.DataFrame(dt).rename(columns = {16:'labels'}),ignore_index=True)"
   ]
  },
  {
   "cell_type": "code",
   "execution_count": 29,
   "metadata": {},
   "outputs": [],
   "source": [
    "from sklearn.preprocessing import LabelEncoder\n",
    "lable_enc = LabelEncoder()"
   ]
  },
  {
   "cell_type": "code",
   "execution_count": 30,
   "metadata": {},
   "outputs": [
    {
     "data": {
      "text/plain": [
       "array([14, 14, 14, 14, 14, 14, 14, 16, 16, 16, 16,  9,  9,  9,  9,  9, 15,\n",
       "       15, 15, 15, 15, 12, 12, 12, 12, 12, 12, 12, 12,  6,  6,  6,  6,  6,\n",
       "        4,  4,  4,  4,  4,  4,  4,  4,  4,  4,  0,  0,  0,  0,  0,  0,  0,\n",
       "        0,  5,  5,  5, 11, 11, 11, 11, 11, 11, 11, 11,  8,  8, 10, 10, 10,\n",
       "       10, 10, 10, 10,  2,  2,  2,  2, 13, 13,  3,  3,  1,  1,  1,  1,  1,\n",
       "        1,  1,  1,  1,  7,  7])"
      ]
     },
     "execution_count": 30,
     "metadata": {},
     "output_type": "execute_result"
    }
   ],
   "source": [
    "labl = lable_enc.fit_transform(df_encoded.labels)\n",
    "labl"
   ]
  },
  {
   "cell_type": "code",
   "execution_count": 31,
   "metadata": {},
   "outputs": [
    {
     "data": {
      "text/plain": [
       "{'start_conversation': 14,\n",
       " 'what_are_you': 16,\n",
       " 'end_conversation': 9,\n",
       " 'thanks': 15,\n",
       " 'options': 12,\n",
       " 'bot_scope': 6,\n",
       " 'SVM': 4,\n",
       " 'Clustering': 0,\n",
       " 'Z_transformation': 5,\n",
       " 'normalization': 11,\n",
       " 'distribution': 8,\n",
       " 'function': 10,\n",
       " 'KNN': 2,\n",
       " 'probability': 13,\n",
       " 'Naive_Bayes': 3,\n",
       " 'Decision_tree': 1,\n",
       " 'confused': 7}"
      ]
     },
     "execution_count": 31,
     "metadata": {},
     "output_type": "execute_result"
    }
   ],
   "source": [
    "mapper = {}\n",
    "for index,key in enumerate(df_encoded.labels):\n",
    "    if key not in mapper.keys():\n",
    "        mapper[key] = labl[index]\n",
    "mapper"
   ]
  },
  {
   "cell_type": "code",
   "execution_count": 32,
   "metadata": {},
   "outputs": [
    {
     "data": {
      "text/html": [
       "<div>\n",
       "<style scoped>\n",
       "    .dataframe tbody tr th:only-of-type {\n",
       "        vertical-align: middle;\n",
       "    }\n",
       "\n",
       "    .dataframe tbody tr th {\n",
       "        vertical-align: top;\n",
       "    }\n",
       "\n",
       "    .dataframe thead th {\n",
       "        text-align: right;\n",
       "    }\n",
       "</style>\n",
       "<table border=\"1\" class=\"dataframe\">\n",
       "  <thead>\n",
       "    <tr style=\"text-align: right;\">\n",
       "      <th></th>\n",
       "      <th>response</th>\n",
       "      <th>labels</th>\n",
       "    </tr>\n",
       "  </thead>\n",
       "  <tbody>\n",
       "    <tr>\n",
       "      <th>0</th>\n",
       "      <td>Hello, I'm sure you are interested in Data Sci...</td>\n",
       "      <td>start_conversation</td>\n",
       "    </tr>\n",
       "    <tr>\n",
       "      <th>1</th>\n",
       "      <td>Happy to have you here</td>\n",
       "      <td>start_conversation</td>\n",
       "    </tr>\n",
       "    <tr>\n",
       "      <th>2</th>\n",
       "      <td>Good to see you again</td>\n",
       "      <td>start_conversation</td>\n",
       "    </tr>\n",
       "    <tr>\n",
       "      <th>3</th>\n",
       "      <td>Hi there, how can I help?</td>\n",
       "      <td>start_conversation</td>\n",
       "    </tr>\n",
       "    <tr>\n",
       "      <th>4</th>\n",
       "      <td>Hi, I'm  DS Chatbot</td>\n",
       "      <td>what_are_you</td>\n",
       "    </tr>\n",
       "  </tbody>\n",
       "</table>\n",
       "</div>"
      ],
      "text/plain": [
       "                                            response              labels\n",
       "0  Hello, I'm sure you are interested in Data Sci...  start_conversation\n",
       "1                             Happy to have you here  start_conversation\n",
       "2                              Good to see you again  start_conversation\n",
       "3                          Hi there, how can I help?  start_conversation\n",
       "4                                Hi, I'm  DS Chatbot        what_are_you"
      ]
     },
     "execution_count": 32,
     "metadata": {},
     "output_type": "execute_result"
    }
   ],
   "source": [
    "df2.head()"
   ]
  },
  {
   "cell_type": "code",
   "execution_count": 33,
   "metadata": {},
   "outputs": [
    {
     "data": {
      "text/html": [
       "<div>\n",
       "<style scoped>\n",
       "    .dataframe tbody tr th:only-of-type {\n",
       "        vertical-align: middle;\n",
       "    }\n",
       "\n",
       "    .dataframe tbody tr th {\n",
       "        vertical-align: top;\n",
       "    }\n",
       "\n",
       "    .dataframe thead th {\n",
       "        text-align: right;\n",
       "    }\n",
       "</style>\n",
       "<table border=\"1\" class=\"dataframe\">\n",
       "  <thead>\n",
       "    <tr style=\"text-align: right;\">\n",
       "      <th></th>\n",
       "      <th>response</th>\n",
       "      <th>labels</th>\n",
       "    </tr>\n",
       "  </thead>\n",
       "  <tbody>\n",
       "    <tr>\n",
       "      <th>0</th>\n",
       "      <td>Hello, I'm sure you are interested in Data Sci...</td>\n",
       "      <td>14</td>\n",
       "    </tr>\n",
       "    <tr>\n",
       "      <th>1</th>\n",
       "      <td>Happy to have you here</td>\n",
       "      <td>14</td>\n",
       "    </tr>\n",
       "    <tr>\n",
       "      <th>2</th>\n",
       "      <td>Good to see you again</td>\n",
       "      <td>14</td>\n",
       "    </tr>\n",
       "    <tr>\n",
       "      <th>3</th>\n",
       "      <td>Hi there, how can I help?</td>\n",
       "      <td>14</td>\n",
       "    </tr>\n",
       "    <tr>\n",
       "      <th>4</th>\n",
       "      <td>Hi, I'm  DS Chatbot</td>\n",
       "      <td>16</td>\n",
       "    </tr>\n",
       "  </tbody>\n",
       "</table>\n",
       "</div>"
      ],
      "text/plain": [
       "                                            response  labels\n",
       "0  Hello, I'm sure you are interested in Data Sci...      14\n",
       "1                             Happy to have you here      14\n",
       "2                              Good to see you again      14\n",
       "3                          Hi there, how can I help?      14\n",
       "4                                Hi, I'm  DS Chatbot      16"
      ]
     },
     "execution_count": 33,
     "metadata": {},
     "output_type": "execute_result"
    }
   ],
   "source": [
    "df2.labels = df2.labels.map(mapper).astype({'labels': 'int32'})\n",
    "df2.head()"
   ]
  },
  {
   "cell_type": "code",
   "execution_count": 34,
   "metadata": {},
   "outputs": [],
   "source": [
    "df2.to_csv('response.csv',index=False)"
   ]
  },
  {
   "cell_type": "code",
   "execution_count": 35,
   "metadata": {},
   "outputs": [],
   "source": [
    "# df2.groupby('labels').get_group(11)"
   ]
  },
  {
   "cell_type": "code",
   "execution_count": 36,
   "metadata": {},
   "outputs": [],
   "source": [
    "train = df_encoded.loc[train_index]\n",
    "test = df_encoded.loc[test_index]"
   ]
  },
  {
   "cell_type": "code",
   "execution_count": 37,
   "metadata": {},
   "outputs": [],
   "source": [
    "X_train = train.drop(columns=['labels'],axis=1)\n",
    "y_train = train.labels\n",
    "X_test = test.drop(columns=['labels'],axis=1)\n",
    "y_test = test.labels\n"
   ]
  },
  {
   "cell_type": "code",
   "execution_count": 38,
   "metadata": {},
   "outputs": [],
   "source": [
    "y_train =pd.get_dummies(y_train).values\n",
    "y_test =pd.get_dummies(y_test).values"
   ]
  },
  {
   "cell_type": "code",
   "execution_count": 39,
   "metadata": {},
   "outputs": [
    {
     "data": {
      "text/plain": [
       "((17,), (17,))"
      ]
     },
     "execution_count": 39,
     "metadata": {},
     "output_type": "execute_result"
    }
   ],
   "source": [
    "y_train[0].shape,y_test[0].shape"
   ]
  },
  {
   "cell_type": "code",
   "execution_count": null,
   "metadata": {},
   "outputs": [],
   "source": []
  },
  {
   "cell_type": "code",
   "execution_count": 40,
   "metadata": {},
   "outputs": [
    {
     "data": {
      "text/plain": [
       "(74, 14)"
      ]
     },
     "execution_count": 40,
     "metadata": {},
     "output_type": "execute_result"
    }
   ],
   "source": [
    "X_train.shape"
   ]
  },
  {
   "cell_type": "code",
   "execution_count": 41,
   "metadata": {},
   "outputs": [],
   "source": [
    "max_length = X_train.shape[1]\n",
    "# output = len(df3.labels.unique())\n",
    "output = 17"
   ]
  },
  {
   "cell_type": "code",
   "execution_count": 42,
   "metadata": {},
   "outputs": [],
   "source": [
    "# def define_model(vocab_size, max_length):\n",
    "#     model = Sequential()\n",
    "#     model.add(Embedding(vocab_size,300, input_length=max_length))\n",
    "#     model.add(Conv1D(filters=64, kernel_size=6, activation='relu'))\n",
    "#     model.add(MaxPooling1D(pool_size=4))\n",
    "#     model.add(Flatten())\n",
    "# #     model.add(Dense(32, activation='relu'))\n",
    "#     model.add(Dense(16, activation='softmax'))\n",
    "    \n",
    "#     # compile network\n",
    "#     model.compile(loss='categorical_crossentropy', optimizer='adam', metrics=['accuracy'])\n",
    "#     # summarize defined model\n",
    "#     model.summary()\n",
    "# #     plot_model(model, to_file='model.png', show_shapes=True)\n",
    "#     return model"
   ]
  },
  {
   "cell_type": "code",
   "execution_count": 43,
   "metadata": {},
   "outputs": [
    {
     "data": {
      "text/plain": [
       "14"
      ]
     },
     "execution_count": 43,
     "metadata": {},
     "output_type": "execute_result"
    }
   ],
   "source": [
    "max_length"
   ]
  },
  {
   "cell_type": "code",
   "execution_count": 44,
   "metadata": {},
   "outputs": [],
   "source": [
    "early_stopping = EarlyStopping(monitor='val_loss',patience=10)\n",
    "checkpoint = ModelCheckpoint(\"model-v1.h5\",\n",
    "                             monitor=\"val_loss\",\n",
    "                             mode=\"min\",\n",
    "                             save_best_only = True,\n",
    "                             verbose=1)\n",
    "reduce_lr = ReduceLROnPlateau(monitor = 'val_loss', factor = 0.2, patience = 3, verbose = 1, min_delta = 0.0001)\n",
    "callbacks = [early_stopping,checkpoint,reduce_lr]\n",
    "    \n",
    "    "
   ]
  },
  {
   "cell_type": "code",
   "execution_count": 45,
   "metadata": {},
   "outputs": [],
   "source": [
    "\n",
    "def define_model(vocab_size, max_length):\n",
    "    model = Sequential()\n",
    "    model.add(Embedding(vocab_size,300, input_length=max_length))\n",
    "    model.add(Conv1D(filters=64, kernel_size=4, activation='relu'))\n",
    "    model.add(MaxPooling1D(pool_size=8))\n",
    "    model.add(Flatten())\n",
    "#     model.add(Dense(32, activation='relu'))\n",
    "    model.add(Dense(17, activation='softmax'))\n",
    "    \n",
    "    \n",
    "    # compile network\n",
    "#     model.compile(loss='categorical_crossentropy', optimizer='adam', metrics=['accuracy'])\n",
    "    model.compile(loss = 'categorical_crossentropy',\n",
    "              # optimizer = Adam(lr=0.001),\n",
    "              optimizer = 'adam',\n",
    "              metrics = ['accuracy'])\n",
    "    \n",
    "    # summarize defined model\n",
    "    model.summary()\n",
    "#     plot_model(model, to_file='model.png', show_shapes=True)\n",
    "    return model"
   ]
  },
  {
   "cell_type": "code",
   "execution_count": 46,
   "metadata": {},
   "outputs": [
    {
     "name": "stdout",
     "output_type": "stream",
     "text": [
      "Model: \"sequential\"\n",
      "_________________________________________________________________\n",
      "Layer (type)                 Output Shape              Param #   \n",
      "=================================================================\n",
      "embedding (Embedding)        (None, 14, 300)           51300     \n",
      "_________________________________________________________________\n",
      "conv1d (Conv1D)              (None, 11, 64)            76864     \n",
      "_________________________________________________________________\n",
      "max_pooling1d (MaxPooling1D) (None, 1, 64)             0         \n",
      "_________________________________________________________________\n",
      "flatten (Flatten)            (None, 64)                0         \n",
      "_________________________________________________________________\n",
      "dense (Dense)                (None, 17)                1105      \n",
      "=================================================================\n",
      "Total params: 129,269\n",
      "Trainable params: 129,269\n",
      "Non-trainable params: 0\n",
      "_________________________________________________________________\n"
     ]
    }
   ],
   "source": [
    "# define model\n",
    "model = define_model(vocab_size, max_length)"
   ]
  },
  {
   "cell_type": "code",
   "execution_count": 47,
   "metadata": {},
   "outputs": [
    {
     "name": "stdout",
     "output_type": "stream",
     "text": [
      "Epoch 1/500\n",
      "3/3 [==============================] - 4s 750ms/step - loss: 2.8299 - accuracy: 0.0676 - val_loss: 2.8111 - val_accuracy: 0.1176\n",
      "\n",
      "Epoch 00001: val_loss improved from inf to 2.81111, saving model to model-v1.h5\n",
      "Epoch 2/500\n",
      "3/3 [==============================] - 0s 53ms/step - loss: 2.7238 - accuracy: 0.3514 - val_loss: 2.7958 - val_accuracy: 0.1765\n",
      "\n",
      "Epoch 00002: val_loss improved from 2.81111 to 2.79581, saving model to model-v1.h5\n",
      "Epoch 3/500\n",
      "3/3 [==============================] - 0s 50ms/step - loss: 2.6455 - accuracy: 0.5270 - val_loss: 2.7822 - val_accuracy: 0.1176\n",
      "\n",
      "Epoch 00003: val_loss improved from 2.79581 to 2.78221, saving model to model-v1.h5\n",
      "Epoch 4/500\n",
      "3/3 [==============================] - 0s 60ms/step - loss: 2.5705 - accuracy: 0.6081 - val_loss: 2.7638 - val_accuracy: 0.1176\n",
      "\n",
      "Epoch 00004: val_loss improved from 2.78221 to 2.76384, saving model to model-v1.h5\n",
      "Epoch 5/500\n",
      "3/3 [==============================] - 0s 93ms/step - loss: 2.4957 - accuracy: 0.6622 - val_loss: 2.7398 - val_accuracy: 0.2353\n",
      "\n",
      "Epoch 00005: val_loss improved from 2.76384 to 2.73983, saving model to model-v1.h5\n",
      "Epoch 6/500\n",
      "3/3 [==============================] - 0s 59ms/step - loss: 2.4144 - accuracy: 0.7432 - val_loss: 2.7181 - val_accuracy: 0.2353\n",
      "\n",
      "Epoch 00006: val_loss improved from 2.73983 to 2.71810, saving model to model-v1.h5\n",
      "Epoch 7/500\n",
      "3/3 [==============================] - 0s 121ms/step - loss: 2.3330 - accuracy: 0.7838 - val_loss: 2.6979 - val_accuracy: 0.2353\n",
      "\n",
      "Epoch 00007: val_loss improved from 2.71810 to 2.69794, saving model to model-v1.h5\n",
      "Epoch 8/500\n",
      "3/3 [==============================] - 0s 117ms/step - loss: 2.2435 - accuracy: 0.8108 - val_loss: 2.6757 - val_accuracy: 0.2353\n",
      "\n",
      "Epoch 00008: val_loss improved from 2.69794 to 2.67570, saving model to model-v1.h5\n",
      "Epoch 9/500\n",
      "3/3 [==============================] - 0s 72ms/step - loss: 2.1554 - accuracy: 0.8243 - val_loss: 2.6513 - val_accuracy: 0.2941\n",
      "\n",
      "Epoch 00009: val_loss improved from 2.67570 to 2.65128, saving model to model-v1.h5\n",
      "Epoch 10/500\n",
      "3/3 [==============================] - 0s 120ms/step - loss: 2.0573 - accuracy: 0.8243 - val_loss: 2.6224 - val_accuracy: 0.2941\n",
      "\n",
      "Epoch 00010: val_loss improved from 2.65128 to 2.62242, saving model to model-v1.h5\n",
      "Epoch 11/500\n",
      "3/3 [==============================] - 0s 98ms/step - loss: 1.9594 - accuracy: 0.8378 - val_loss: 2.5928 - val_accuracy: 0.4118\n",
      "\n",
      "Epoch 00011: val_loss improved from 2.62242 to 2.59280, saving model to model-v1.h5\n",
      "Epoch 12/500\n",
      "3/3 [==============================] - 0s 62ms/step - loss: 1.8522 - accuracy: 0.8378 - val_loss: 2.5659 - val_accuracy: 0.4118\n",
      "\n",
      "Epoch 00012: val_loss improved from 2.59280 to 2.56592, saving model to model-v1.h5\n",
      "Epoch 13/500\n",
      "3/3 [==============================] - 0s 47ms/step - loss: 1.7447 - accuracy: 0.8378 - val_loss: 2.5426 - val_accuracy: 0.3529\n",
      "\n",
      "Epoch 00013: val_loss improved from 2.56592 to 2.54256, saving model to model-v1.h5\n",
      "Epoch 14/500\n",
      "3/3 [==============================] - 0s 62ms/step - loss: 1.6376 - accuracy: 0.8378 - val_loss: 2.5150 - val_accuracy: 0.3529\n",
      "\n",
      "Epoch 00014: val_loss improved from 2.54256 to 2.51498, saving model to model-v1.h5\n",
      "Epoch 15/500\n",
      "3/3 [==============================] - 0s 83ms/step - loss: 1.5252 - accuracy: 0.8514 - val_loss: 2.4815 - val_accuracy: 0.4118\n",
      "\n",
      "Epoch 00015: val_loss improved from 2.51498 to 2.48149, saving model to model-v1.h5\n",
      "Epoch 16/500\n",
      "3/3 [==============================] - 0s 59ms/step - loss: 1.4151 - accuracy: 0.8514 - val_loss: 2.4518 - val_accuracy: 0.4118\n",
      "\n",
      "Epoch 00016: val_loss improved from 2.48149 to 2.45179, saving model to model-v1.h5\n",
      "Epoch 17/500\n",
      "3/3 [==============================] - 0s 74ms/step - loss: 1.3084 - accuracy: 0.8514 - val_loss: 2.4193 - val_accuracy: 0.4118\n",
      "\n",
      "Epoch 00017: val_loss improved from 2.45179 to 2.41934, saving model to model-v1.h5\n",
      "Epoch 18/500\n",
      "3/3 [==============================] - 0s 70ms/step - loss: 1.2051 - accuracy: 0.8514 - val_loss: 2.3804 - val_accuracy: 0.4118\n",
      "\n",
      "Epoch 00018: val_loss improved from 2.41934 to 2.38041, saving model to model-v1.h5\n",
      "Epoch 19/500\n",
      "3/3 [==============================] - 0s 93ms/step - loss: 1.1073 - accuracy: 0.8514 - val_loss: 2.3353 - val_accuracy: 0.4706\n",
      "\n",
      "Epoch 00019: val_loss improved from 2.38041 to 2.33535, saving model to model-v1.h5\n",
      "Epoch 20/500\n",
      "3/3 [==============================] - 0s 74ms/step - loss: 1.0136 - accuracy: 0.8514 - val_loss: 2.2866 - val_accuracy: 0.5294\n",
      "\n",
      "Epoch 00020: val_loss improved from 2.33535 to 2.28656, saving model to model-v1.h5\n",
      "Epoch 21/500\n",
      "3/3 [==============================] - 0s 70ms/step - loss: 0.9251 - accuracy: 0.8919 - val_loss: 2.2355 - val_accuracy: 0.5294\n",
      "\n",
      "Epoch 00021: val_loss improved from 2.28656 to 2.23553, saving model to model-v1.h5\n",
      "Epoch 22/500\n",
      "3/3 [==============================] - 0s 80ms/step - loss: 0.8394 - accuracy: 0.9054 - val_loss: 2.1783 - val_accuracy: 0.5294\n",
      "\n",
      "Epoch 00022: val_loss improved from 2.23553 to 2.17832, saving model to model-v1.h5\n",
      "Epoch 23/500\n",
      "3/3 [==============================] - 0s 76ms/step - loss: 0.7611 - accuracy: 0.9189 - val_loss: 2.1269 - val_accuracy: 0.5294\n",
      "\n",
      "Epoch 00023: val_loss improved from 2.17832 to 2.12695, saving model to model-v1.h5\n",
      "Epoch 24/500\n",
      "3/3 [==============================] - 0s 76ms/step - loss: 0.6841 - accuracy: 0.9324 - val_loss: 2.0862 - val_accuracy: 0.5294\n",
      "\n",
      "Epoch 00024: val_loss improved from 2.12695 to 2.08620, saving model to model-v1.h5\n",
      "Epoch 25/500\n",
      "3/3 [==============================] - 0s 48ms/step - loss: 0.6152 - accuracy: 0.9324 - val_loss: 2.0430 - val_accuracy: 0.5294\n",
      "\n",
      "Epoch 00025: val_loss improved from 2.08620 to 2.04299, saving model to model-v1.h5\n",
      "Epoch 26/500\n",
      "3/3 [==============================] - 0s 90ms/step - loss: 0.5522 - accuracy: 0.9459 - val_loss: 1.9982 - val_accuracy: 0.5294\n",
      "\n",
      "Epoch 00026: val_loss improved from 2.04299 to 1.99820, saving model to model-v1.h5\n",
      "Epoch 27/500\n",
      "3/3 [==============================] - 0s 61ms/step - loss: 0.4927 - accuracy: 0.9595 - val_loss: 1.9554 - val_accuracy: 0.5294\n",
      "\n",
      "Epoch 00027: val_loss improved from 1.99820 to 1.95542, saving model to model-v1.h5\n",
      "Epoch 28/500\n",
      "3/3 [==============================] - 0s 80ms/step - loss: 0.4387 - accuracy: 0.9595 - val_loss: 1.9142 - val_accuracy: 0.5294\n",
      "\n",
      "Epoch 00028: val_loss improved from 1.95542 to 1.91421, saving model to model-v1.h5\n",
      "Epoch 29/500\n",
      "3/3 [==============================] - 0s 66ms/step - loss: 0.3928 - accuracy: 0.9595 - val_loss: 1.8771 - val_accuracy: 0.5294\n",
      "\n",
      "Epoch 00029: val_loss improved from 1.91421 to 1.87710, saving model to model-v1.h5\n",
      "Epoch 30/500\n",
      "3/3 [==============================] - 0s 59ms/step - loss: 0.3475 - accuracy: 0.9730 - val_loss: 1.8462 - val_accuracy: 0.5294\n",
      "\n",
      "Epoch 00030: val_loss improved from 1.87710 to 1.84624, saving model to model-v1.h5\n",
      "Epoch 31/500\n",
      "3/3 [==============================] - 0s 69ms/step - loss: 0.3100 - accuracy: 0.9730 - val_loss: 1.8165 - val_accuracy: 0.5294\n",
      "\n",
      "Epoch 00031: val_loss improved from 1.84624 to 1.81647, saving model to model-v1.h5\n",
      "Epoch 32/500\n",
      "3/3 [==============================] - 0s 69ms/step - loss: 0.2773 - accuracy: 0.9730 - val_loss: 1.7853 - val_accuracy: 0.5294\n",
      "\n",
      "Epoch 00032: val_loss improved from 1.81647 to 1.78530, saving model to model-v1.h5\n",
      "Epoch 33/500\n",
      "3/3 [==============================] - 0s 73ms/step - loss: 0.2455 - accuracy: 0.9865 - val_loss: 1.7536 - val_accuracy: 0.5294\n",
      "\n",
      "Epoch 00033: val_loss improved from 1.78530 to 1.75356, saving model to model-v1.h5\n",
      "Epoch 34/500\n",
      "3/3 [==============================] - 0s 90ms/step - loss: 0.2202 - accuracy: 0.9865 - val_loss: 1.7229 - val_accuracy: 0.5294\n",
      "\n",
      "Epoch 00034: val_loss improved from 1.75356 to 1.72291, saving model to model-v1.h5\n",
      "Epoch 35/500\n",
      "3/3 [==============================] - 0s 92ms/step - loss: 0.1977 - accuracy: 0.9865 - val_loss: 1.6873 - val_accuracy: 0.5294\n",
      "\n",
      "Epoch 00035: val_loss improved from 1.72291 to 1.68729, saving model to model-v1.h5\n",
      "Epoch 36/500\n",
      "3/3 [==============================] - 0s 85ms/step - loss: 0.1780 - accuracy: 0.9865 - val_loss: 1.6472 - val_accuracy: 0.5294\n",
      "\n",
      "Epoch 00036: val_loss improved from 1.68729 to 1.64724, saving model to model-v1.h5\n",
      "Epoch 37/500\n"
     ]
    },
    {
     "name": "stdout",
     "output_type": "stream",
     "text": [
      "3/3 [==============================] - 0s 129ms/step - loss: 0.1610 - accuracy: 0.9865 - val_loss: 1.6108 - val_accuracy: 0.5294\n",
      "\n",
      "Epoch 00037: val_loss improved from 1.64724 to 1.61082, saving model to model-v1.h5\n",
      "Epoch 38/500\n",
      "3/3 [==============================] - 0s 62ms/step - loss: 0.1455 - accuracy: 0.9865 - val_loss: 1.5812 - val_accuracy: 0.5294\n",
      "\n",
      "Epoch 00038: val_loss improved from 1.61082 to 1.58122, saving model to model-v1.h5\n",
      "Epoch 39/500\n",
      "3/3 [==============================] - 0s 81ms/step - loss: 0.1334 - accuracy: 0.9865 - val_loss: 1.5545 - val_accuracy: 0.5294\n",
      "\n",
      "Epoch 00039: val_loss improved from 1.58122 to 1.55445, saving model to model-v1.h5\n",
      "Epoch 40/500\n",
      "3/3 [==============================] - 0s 88ms/step - loss: 0.1218 - accuracy: 0.9865 - val_loss: 1.5337 - val_accuracy: 0.5294\n",
      "\n",
      "Epoch 00040: val_loss improved from 1.55445 to 1.53369, saving model to model-v1.h5\n",
      "Epoch 41/500\n",
      "3/3 [==============================] - 0s 128ms/step - loss: 0.1118 - accuracy: 0.9865 - val_loss: 1.5137 - val_accuracy: 0.5294\n",
      "\n",
      "Epoch 00041: val_loss improved from 1.53369 to 1.51370, saving model to model-v1.h5\n",
      "Epoch 42/500\n",
      "3/3 [==============================] - 0s 100ms/step - loss: 0.1047 - accuracy: 0.9865 - val_loss: 1.4941 - val_accuracy: 0.5294\n",
      "\n",
      "Epoch 00042: val_loss improved from 1.51370 to 1.49407, saving model to model-v1.h5\n",
      "Epoch 43/500\n",
      "3/3 [==============================] - 0s 78ms/step - loss: 0.0970 - accuracy: 0.9865 - val_loss: 1.4793 - val_accuracy: 0.5294\n",
      "\n",
      "Epoch 00043: val_loss improved from 1.49407 to 1.47926, saving model to model-v1.h5\n",
      "Epoch 44/500\n",
      "3/3 [==============================] - 0s 92ms/step - loss: 0.0911 - accuracy: 0.9865 - val_loss: 1.4663 - val_accuracy: 0.5294\n",
      "\n",
      "Epoch 00044: val_loss improved from 1.47926 to 1.46633, saving model to model-v1.h5\n",
      "Epoch 45/500\n",
      "3/3 [==============================] - 0s 49ms/step - loss: 0.0858 - accuracy: 0.9865 - val_loss: 1.4563 - val_accuracy: 0.5294\n",
      "\n",
      "Epoch 00045: val_loss improved from 1.46633 to 1.45629, saving model to model-v1.h5\n",
      "Epoch 46/500\n",
      "3/3 [==============================] - 0s 55ms/step - loss: 0.0810 - accuracy: 0.9865 - val_loss: 1.4489 - val_accuracy: 0.5294\n",
      "\n",
      "Epoch 00046: val_loss improved from 1.45629 to 1.44887, saving model to model-v1.h5\n",
      "Epoch 47/500\n",
      "3/3 [==============================] - 0s 53ms/step - loss: 0.0767 - accuracy: 0.9865 - val_loss: 1.4437 - val_accuracy: 0.5294\n",
      "\n",
      "Epoch 00047: val_loss improved from 1.44887 to 1.44373, saving model to model-v1.h5\n",
      "Epoch 48/500\n",
      "3/3 [==============================] - 0s 81ms/step - loss: 0.0731 - accuracy: 0.9865 - val_loss: 1.4400 - val_accuracy: 0.5294\n",
      "\n",
      "Epoch 00048: val_loss improved from 1.44373 to 1.44005, saving model to model-v1.h5\n",
      "Epoch 49/500\n",
      "3/3 [==============================] - 0s 66ms/step - loss: 0.0697 - accuracy: 0.9865 - val_loss: 1.4368 - val_accuracy: 0.5294\n",
      "\n",
      "Epoch 00049: val_loss improved from 1.44005 to 1.43684, saving model to model-v1.h5\n",
      "Epoch 50/500\n",
      "3/3 [==============================] - 0s 57ms/step - loss: 0.0668 - accuracy: 0.9865 - val_loss: 1.4335 - val_accuracy: 0.5294\n",
      "\n",
      "Epoch 00050: val_loss improved from 1.43684 to 1.43345, saving model to model-v1.h5\n",
      "Epoch 51/500\n",
      "3/3 [==============================] - 0s 55ms/step - loss: 0.0641 - accuracy: 0.9865 - val_loss: 1.4295 - val_accuracy: 0.5294\n",
      "\n",
      "Epoch 00051: val_loss improved from 1.43345 to 1.42948, saving model to model-v1.h5\n",
      "Epoch 52/500\n",
      "3/3 [==============================] - 0s 121ms/step - loss: 0.0615 - accuracy: 0.9865 - val_loss: 1.4262 - val_accuracy: 0.5294\n",
      "\n",
      "Epoch 00052: val_loss improved from 1.42948 to 1.42621, saving model to model-v1.h5\n",
      "Epoch 53/500\n",
      "3/3 [==============================] - 0s 146ms/step - loss: 0.0593 - accuracy: 0.9865 - val_loss: 1.4214 - val_accuracy: 0.5294\n",
      "\n",
      "Epoch 00053: val_loss improved from 1.42621 to 1.42137, saving model to model-v1.h5\n",
      "Epoch 54/500\n",
      "3/3 [==============================] - 0s 93ms/step - loss: 0.0570 - accuracy: 0.9865 - val_loss: 1.4157 - val_accuracy: 0.5294\n",
      "\n",
      "Epoch 00054: val_loss improved from 1.42137 to 1.41570, saving model to model-v1.h5\n",
      "Epoch 55/500\n",
      "3/3 [==============================] - 0s 99ms/step - loss: 0.0552 - accuracy: 0.9865 - val_loss: 1.4093 - val_accuracy: 0.5294\n",
      "\n",
      "Epoch 00055: val_loss improved from 1.41570 to 1.40934, saving model to model-v1.h5\n",
      "Epoch 56/500\n",
      "3/3 [==============================] - 0s 95ms/step - loss: 0.0533 - accuracy: 0.9865 - val_loss: 1.4045 - val_accuracy: 0.5294\n",
      "\n",
      "Epoch 00056: val_loss improved from 1.40934 to 1.40449, saving model to model-v1.h5\n",
      "Epoch 57/500\n",
      "3/3 [==============================] - 0s 91ms/step - loss: 0.0515 - accuracy: 0.9865 - val_loss: 1.4004 - val_accuracy: 0.5294\n",
      "\n",
      "Epoch 00057: val_loss improved from 1.40449 to 1.40037, saving model to model-v1.h5\n",
      "Epoch 58/500\n",
      "3/3 [==============================] - 0s 53ms/step - loss: 0.0498 - accuracy: 0.9865 - val_loss: 1.3971 - val_accuracy: 0.5294\n",
      "\n",
      "Epoch 00058: val_loss improved from 1.40037 to 1.39708, saving model to model-v1.h5\n",
      "Epoch 59/500\n",
      "3/3 [==============================] - 0s 66ms/step - loss: 0.0485 - accuracy: 0.9865 - val_loss: 1.3939 - val_accuracy: 0.5294\n",
      "\n",
      "Epoch 00059: val_loss improved from 1.39708 to 1.39392, saving model to model-v1.h5\n",
      "Epoch 60/500\n",
      "3/3 [==============================] - 0s 70ms/step - loss: 0.0468 - accuracy: 0.9865 - val_loss: 1.3908 - val_accuracy: 0.5294\n",
      "\n",
      "Epoch 00060: val_loss improved from 1.39392 to 1.39083, saving model to model-v1.h5\n",
      "Epoch 61/500\n",
      "3/3 [==============================] - 0s 107ms/step - loss: 0.0453 - accuracy: 0.9865 - val_loss: 1.3876 - val_accuracy: 0.5882\n",
      "\n",
      "Epoch 00061: val_loss improved from 1.39083 to 1.38757, saving model to model-v1.h5\n",
      "Epoch 62/500\n",
      "3/3 [==============================] - 0s 65ms/step - loss: 0.0435 - accuracy: 1.0000 - val_loss: 1.3856 - val_accuracy: 0.5882\n",
      "\n",
      "Epoch 00062: val_loss improved from 1.38757 to 1.38562, saving model to model-v1.h5\n",
      "Epoch 63/500\n",
      "3/3 [==============================] - 0s 69ms/step - loss: 0.0420 - accuracy: 1.0000 - val_loss: 1.3837 - val_accuracy: 0.5882\n",
      "\n",
      "Epoch 00063: val_loss improved from 1.38562 to 1.38372, saving model to model-v1.h5\n",
      "Epoch 64/500\n",
      "3/3 [==============================] - 0s 49ms/step - loss: 0.0410 - accuracy: 1.0000 - val_loss: 1.3814 - val_accuracy: 0.5882\n",
      "\n",
      "Epoch 00064: val_loss improved from 1.38372 to 1.38137, saving model to model-v1.h5\n",
      "Epoch 65/500\n",
      "3/3 [==============================] - 0s 102ms/step - loss: 0.0391 - accuracy: 1.0000 - val_loss: 1.3787 - val_accuracy: 0.5882\n",
      "\n",
      "Epoch 00065: val_loss improved from 1.38137 to 1.37866, saving model to model-v1.h5\n",
      "Epoch 66/500\n",
      "3/3 [==============================] - 0s 77ms/step - loss: 0.0376 - accuracy: 1.0000 - val_loss: 1.3753 - val_accuracy: 0.5882\n",
      "\n",
      "Epoch 00066: val_loss improved from 1.37866 to 1.37532, saving model to model-v1.h5\n",
      "Epoch 67/500\n",
      "3/3 [==============================] - 0s 78ms/step - loss: 0.0363 - accuracy: 1.0000 - val_loss: 1.3734 - val_accuracy: 0.5882\n",
      "\n",
      "Epoch 00067: val_loss improved from 1.37532 to 1.37340, saving model to model-v1.h5\n",
      "Epoch 68/500\n",
      "3/3 [==============================] - 0s 78ms/step - loss: 0.0349 - accuracy: 1.0000 - val_loss: 1.3708 - val_accuracy: 0.5882\n",
      "\n",
      "Epoch 00068: val_loss improved from 1.37340 to 1.37079, saving model to model-v1.h5\n",
      "Epoch 69/500\n",
      "3/3 [==============================] - 0s 88ms/step - loss: 0.0339 - accuracy: 1.0000 - val_loss: 1.3691 - val_accuracy: 0.5882\n",
      "\n",
      "Epoch 00069: val_loss improved from 1.37079 to 1.36908, saving model to model-v1.h5\n",
      "Epoch 70/500\n",
      "3/3 [==============================] - 0s 63ms/step - loss: 0.0325 - accuracy: 1.0000 - val_loss: 1.3676 - val_accuracy: 0.6471\n",
      "\n",
      "Epoch 00070: val_loss improved from 1.36908 to 1.36763, saving model to model-v1.h5\n",
      "Epoch 71/500\n",
      "3/3 [==============================] - 0s 55ms/step - loss: 0.0314 - accuracy: 1.0000 - val_loss: 1.3661 - val_accuracy: 0.6471\n",
      "\n",
      "Epoch 00071: val_loss improved from 1.36763 to 1.36607, saving model to model-v1.h5\n",
      "Epoch 72/500\n",
      "3/3 [==============================] - 0s 70ms/step - loss: 0.0304 - accuracy: 1.0000 - val_loss: 1.3634 - val_accuracy: 0.6471\n",
      "\n",
      "Epoch 00072: val_loss improved from 1.36607 to 1.36343, saving model to model-v1.h5\n",
      "Epoch 73/500\n"
     ]
    },
    {
     "name": "stdout",
     "output_type": "stream",
     "text": [
      "3/3 [==============================] - 0s 56ms/step - loss: 0.0293 - accuracy: 1.0000 - val_loss: 1.3604 - val_accuracy: 0.6471\n",
      "\n",
      "Epoch 00073: val_loss improved from 1.36343 to 1.36042, saving model to model-v1.h5\n",
      "Epoch 74/500\n",
      "3/3 [==============================] - 0s 90ms/step - loss: 0.0284 - accuracy: 1.0000 - val_loss: 1.3574 - val_accuracy: 0.6471\n",
      "\n",
      "Epoch 00074: val_loss improved from 1.36042 to 1.35738, saving model to model-v1.h5\n",
      "Epoch 75/500\n",
      "3/3 [==============================] - 0s 69ms/step - loss: 0.0275 - accuracy: 1.0000 - val_loss: 1.3545 - val_accuracy: 0.6471\n",
      "\n",
      "Epoch 00075: val_loss improved from 1.35738 to 1.35451, saving model to model-v1.h5\n",
      "Epoch 76/500\n",
      "3/3 [==============================] - 0s 85ms/step - loss: 0.0262 - accuracy: 1.0000 - val_loss: 1.3530 - val_accuracy: 0.6471\n",
      "\n",
      "Epoch 00076: val_loss improved from 1.35451 to 1.35301, saving model to model-v1.h5\n",
      "Epoch 77/500\n",
      "3/3 [==============================] - 0s 89ms/step - loss: 0.0253 - accuracy: 1.0000 - val_loss: 1.3512 - val_accuracy: 0.6471\n",
      "\n",
      "Epoch 00077: val_loss improved from 1.35301 to 1.35117, saving model to model-v1.h5\n",
      "Epoch 78/500\n",
      "3/3 [==============================] - 0s 78ms/step - loss: 0.0244 - accuracy: 1.0000 - val_loss: 1.3485 - val_accuracy: 0.6471\n",
      "\n",
      "Epoch 00078: val_loss improved from 1.35117 to 1.34849, saving model to model-v1.h5\n",
      "Epoch 79/500\n",
      "3/3 [==============================] - 0s 92ms/step - loss: 0.0236 - accuracy: 1.0000 - val_loss: 1.3459 - val_accuracy: 0.6471\n",
      "\n",
      "Epoch 00079: val_loss improved from 1.34849 to 1.34589, saving model to model-v1.h5\n",
      "Epoch 80/500\n",
      "3/3 [==============================] - 0s 97ms/step - loss: 0.0227 - accuracy: 1.0000 - val_loss: 1.3441 - val_accuracy: 0.6471\n",
      "\n",
      "Epoch 00080: val_loss improved from 1.34589 to 1.34406, saving model to model-v1.h5\n",
      "Epoch 81/500\n",
      "3/3 [==============================] - 0s 125ms/step - loss: 0.0219 - accuracy: 1.0000 - val_loss: 1.3439 - val_accuracy: 0.6471\n",
      "\n",
      "Epoch 00081: val_loss improved from 1.34406 to 1.34393, saving model to model-v1.h5\n",
      "Epoch 82/500\n",
      "3/3 [==============================] - 0s 89ms/step - loss: 0.0210 - accuracy: 1.0000 - val_loss: 1.3446 - val_accuracy: 0.6471\n",
      "\n",
      "Epoch 00082: val_loss did not improve from 1.34393\n",
      "Epoch 83/500\n",
      "3/3 [==============================] - 0s 85ms/step - loss: 0.0202 - accuracy: 1.0000 - val_loss: 1.3453 - val_accuracy: 0.6471\n",
      "\n",
      "Epoch 00083: val_loss did not improve from 1.34393\n",
      "Epoch 84/500\n",
      "3/3 [==============================] - 0s 74ms/step - loss: 0.0194 - accuracy: 1.0000 - val_loss: 1.3462 - val_accuracy: 0.6471\n",
      "\n",
      "Epoch 00084: val_loss did not improve from 1.34393\n",
      "\n",
      "Epoch 00084: ReduceLROnPlateau reducing learning rate to 0.00020000000949949026.\n",
      "Epoch 85/500\n",
      "3/3 [==============================] - 0s 83ms/step - loss: 0.0189 - accuracy: 1.0000 - val_loss: 1.3465 - val_accuracy: 0.6471\n",
      "\n",
      "Epoch 00085: val_loss did not improve from 1.34393\n",
      "Epoch 86/500\n",
      "3/3 [==============================] - 0s 65ms/step - loss: 0.0187 - accuracy: 1.0000 - val_loss: 1.3466 - val_accuracy: 0.6471\n",
      "\n",
      "Epoch 00086: val_loss did not improve from 1.34393\n",
      "Epoch 87/500\n",
      "3/3 [==============================] - 0s 49ms/step - loss: 0.0186 - accuracy: 1.0000 - val_loss: 1.3466 - val_accuracy: 0.6471\n",
      "\n",
      "Epoch 00087: val_loss did not improve from 1.34393\n",
      "\n",
      "Epoch 00087: ReduceLROnPlateau reducing learning rate to 4.0000001899898055e-05.\n",
      "Epoch 88/500\n",
      "3/3 [==============================] - 0s 64ms/step - loss: 0.0185 - accuracy: 1.0000 - val_loss: 1.3466 - val_accuracy: 0.6471\n",
      "\n",
      "Epoch 00088: val_loss did not improve from 1.34393\n",
      "Epoch 89/500\n",
      "3/3 [==============================] - 0s 55ms/step - loss: 0.0185 - accuracy: 1.0000 - val_loss: 1.3466 - val_accuracy: 0.6471\n",
      "\n",
      "Epoch 00089: val_loss did not improve from 1.34393\n",
      "Epoch 90/500\n",
      "3/3 [==============================] - 0s 55ms/step - loss: 0.0185 - accuracy: 1.0000 - val_loss: 1.3465 - val_accuracy: 0.6471\n",
      "\n",
      "Epoch 00090: val_loss did not improve from 1.34393\n",
      "\n",
      "Epoch 00090: ReduceLROnPlateau reducing learning rate to 8.000000525498762e-06.\n",
      "Epoch 91/500\n",
      "3/3 [==============================] - 0s 66ms/step - loss: 0.0184 - accuracy: 1.0000 - val_loss: 1.3465 - val_accuracy: 0.6471\n",
      "\n",
      "Epoch 00091: val_loss did not improve from 1.34393\n"
     ]
    }
   ],
   "source": [
    "history = model.fit(X_train, y_train, epochs=500, verbose=1,validation_data=(X_test,y_test),callbacks=callbacks)"
   ]
  },
  {
   "cell_type": "code",
   "execution_count": null,
   "metadata": {},
   "outputs": [],
   "source": []
  },
  {
   "cell_type": "code",
   "execution_count": 48,
   "metadata": {},
   "outputs": [
    {
     "data": {
      "image/png": "[encoded data removed]",
      "text/plain": [
       "<Figure size 1152x576 with 2 Axes>"
      ]
     },
     "metadata": {
      "needs_background": "light"
     },
     "output_type": "display_data"
    }
   ],
   "source": [
    "acc = history.history['accuracy']\n",
    "val_acc = history.history['val_accuracy']\n",
    "loss=history.history['loss']\n",
    "val_loss=history.history['val_loss']\n",
    "\n",
    "plt.figure(figsize=(16,8))\n",
    "plt.subplot(1, 2, 1)\n",
    "plt.plot(acc, label='Training Accuracy')\n",
    "plt.plot(val_acc, label='Validation Accuracy')\n",
    "plt.legend(loc='lower right')\n",
    "plt.title('Training and Validation Accuracy')\n",
    "\n",
    "plt.subplot(1, 2, 2)\n",
    "plt.plot(loss, label='Training Loss')\n",
    "plt.plot(val_loss, label='Validation Loss')\n",
    "plt.legend(loc='upper right')\n",
    "plt.title('Training and Validation Loss')\n",
    "plt.show()"
   ]
  },
  {
   "cell_type": "code",
   "execution_count": 49,
   "metadata": {},
   "outputs": [
    {
     "data": {
      "text/plain": [
       "[0, 1, 2, 11, 4, 9, 6, 1, 9, 10]"
      ]
     },
     "execution_count": 49,
     "metadata": {},
     "output_type": "execute_result"
    }
   ],
   "source": [
    "[np.argmax(i) for i in model.predict(X_test)][:10]"
   ]
  },
  {
   "cell_type": "code",
   "execution_count": 50,
   "metadata": {},
   "outputs": [
    {
     "data": {
      "text/plain": [
       "[0, 1, 2, 3, 4, 5, 6, 8, 9, 10]"
      ]
     },
     "execution_count": 50,
     "metadata": {},
     "output_type": "execute_result"
    }
   ],
   "source": [
    "[np.argmax(i) for i in y_test][:10]"
   ]
  },
  {
   "cell_type": "code",
   "execution_count": null,
   "metadata": {},
   "outputs": [],
   "source": []
  },
  {
   "cell_type": "markdown",
   "metadata": {},
   "source": [
    "## New user question encoding"
   ]
  },
  {
   "cell_type": "code",
   "execution_count": 51,
   "metadata": {},
   "outputs": [],
   "source": [
    "def get_text():\n",
    "    input_text  = ['what are you']\n",
    "    df_input = pd.DataFrame(input_text,columns=['questions'])\n",
    "    df_input\n",
    "    return df_input "
   ]
  },
  {
   "cell_type": "code",
   "execution_count": 52,
   "metadata": {},
   "outputs": [],
   "source": [
    "#load artifacts \n",
    "from tensorflow.keras.models import load_model\n",
    "model = load_model('model-v1.h5')\n",
    "tokenizer_t = joblib.load('tokenizer_t.pkl')\n",
    "vocab = joblib.load('vocab.pkl')"
   ]
  },
  {
   "cell_type": "code",
   "execution_count": 53,
   "metadata": {},
   "outputs": [],
   "source": [
    "def tokenizer(entry):\n",
    "    tokens = entry.split()\n",
    "    re_punc = re.compile('[%s]' % re.escape(string.punctuation))\n",
    "    tokens = [re_punc.sub('', w) for w in tokens]\n",
    "    tokens = [word for word in tokens if word.isalpha()]\n",
    "    tokens = [lemmatizer.lemmatize(w.lower()) for w in tokens]\n",
    "#     stop_words = set(stopwords.words('english'))\n",
    "#     tokens = [w for w in tokens if not w in stop_words]\n",
    "    tokens = [word.lower() for word in tokens if len(word) > 1]\n",
    "    return tokens"
   ]
  },
  {
   "cell_type": "code",
   "execution_count": 54,
   "metadata": {},
   "outputs": [],
   "source": [
    "def remove_stop_words_for_input(tokenizer,df,feature):\n",
    "    doc_without_stopwords = []\n",
    "    entry = df[feature][0]\n",
    "    tokens = tokenizer(entry)\n",
    "    doc_without_stopwords.append(' '.join(tokens))\n",
    "    df[feature] = doc_without_stopwords\n",
    "    return df"
   ]
  },
  {
   "cell_type": "code",
   "execution_count": 55,
   "metadata": {},
   "outputs": [],
   "source": [
    "# df_input = remove_stop_words_for_input(tokenizer,df_input,'questions')\n",
    "# df_input"
   ]
  },
  {
   "cell_type": "code",
   "execution_count": 56,
   "metadata": {},
   "outputs": [],
   "source": [
    "def encode_input_text(tokenizer_t,df,feature):\n",
    "    t = tokenizer_t\n",
    "    entry = entry = [df[feature][0]]\n",
    "    encoded = t.texts_to_sequences(entry)\n",
    "    padded = pad_sequences(encoded, maxlen=16, padding='post')\n",
    "    return padded"
   ]
  },
  {
   "cell_type": "code",
   "execution_count": 57,
   "metadata": {},
   "outputs": [],
   "source": [
    "# encoded_input = encode_input_text(tokenizer_t,df_input,'questions')\n",
    "# encoded_input.shape"
   ]
  },
  {
   "cell_type": "code",
   "execution_count": 58,
   "metadata": {},
   "outputs": [],
   "source": [
    "# encoded_input"
   ]
  },
  {
   "cell_type": "code",
   "execution_count": 59,
   "metadata": {},
   "outputs": [],
   "source": [
    "def get_pred(model,encoded_input):\n",
    "    pred = np.argmax(model.predict(encoded_input))\n",
    "    return pred"
   ]
  },
  {
   "cell_type": "code",
   "execution_count": 60,
   "metadata": {},
   "outputs": [],
   "source": [
    "# mapper"
   ]
  },
  {
   "cell_type": "code",
   "execution_count": 61,
   "metadata": {},
   "outputs": [],
   "source": [
    "# df2.head()"
   ]
  },
  {
   "cell_type": "code",
   "execution_count": 62,
   "metadata": {},
   "outputs": [],
   "source": [
    "def bot_precausion(df_input,pred):\n",
    "    words = df_input.questions[0].split()\n",
    "    if len([w for w in words if w in vocab])==0 :\n",
    "        pred = 1\n",
    "    return pred"
   ]
  },
  {
   "cell_type": "code",
   "execution_count": 63,
   "metadata": {},
   "outputs": [],
   "source": [
    "def get_response(df2,pred):\n",
    "    upper_bound = df2.groupby('labels').get_group(pred).shape[0]\n",
    "    r = np.random.randint(0,upper_bound)\n",
    "    responses = list(df2.groupby('labels').get_group(pred).response)\n",
    "    return responses[r]\n",
    "    "
   ]
  },
  {
   "cell_type": "code",
   "execution_count": 64,
   "metadata": {},
   "outputs": [],
   "source": [
    "def bot_response(response,):\n",
    "    print(response)"
   ]
  },
  {
   "cell_type": "code",
   "execution_count": null,
   "metadata": {},
   "outputs": [],
   "source": []
  },
  {
   "cell_type": "code",
   "execution_count": 65,
   "metadata": {},
   "outputs": [
    {
     "name": "stdout",
     "output_type": "stream",
     "text": [
      "WARNING:tensorflow:Model was constructed with shape (None, 14) for input KerasTensor(type_spec=TensorSpec(shape=(None, 14), dtype=tf.float32, name='embedding_input'), name='embedding_input', description=\"created by layer 'embedding_input'\"), but it was called on an input with incompatible shape (None, 16).\n",
      "Call me ChatBot\n"
     ]
    }
   ],
   "source": [
    "df_input = get_text()\n",
    "\n",
    "#load artifacts \n",
    "tokenizer_t = joblib.load('tokenizer_t.pkl')\n",
    "vocab = joblib.load('vocab.pkl')\n",
    "\n",
    "df_input = remove_stop_words_for_input(tokenizer,df_input,'questions')\n",
    "encoded_input = encode_input_text(tokenizer_t,df_input,'questions')\n",
    "\n",
    "pred = get_pred(model,encoded_input)\n",
    "pred = bot_precausion(df_input,pred)\n",
    "\n",
    "response = get_response(df2,pred)\n",
    "bot_response(response)"
   ]
  },
  {
   "cell_type": "code",
   "execution_count": null,
   "metadata": {},
   "outputs": [],
   "source": []
  }
 ],
 "metadata": {
  "kernelspec": {
   "display_name": "Python 3",
   "language": "python",
   "name": "python3"
  },
  "language_info": {
   "codemirror_mode": {
    "name": "ipython",
    "version": 3
   },
   "file_extension": ".py",
   "mimetype": "text/x-python",
   "name": "python",
   "nbconvert_exporter": "python",
   "pygments_lexer": "ipython3",
   "version": "3.8.5"
  }
 },
 "nbformat": 4,
 "nbformat_minor": 4
}
